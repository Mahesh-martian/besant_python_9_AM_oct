{
 "cells": [
  {
   "cell_type": "markdown",
   "id": "7d12ed4c",
   "metadata": {},
   "source": [
    "## Mutable & Immutable Data Types 🔄🔐\n",
    "\n",
    "### Immutable Data Types 🚫✏️\n",
    "**Definition:** Data types that **cannot** be changed after declaration.\n",
    "\n",
    "```python\n",
    "my_num = 896542587\n",
    "print(my_num)\n",
    "print(id(my_num))\n",
    "my_num = 896543587\n",
    "print(my_num)\n",
    "print(id(my_num))\n",
    "```\n",
    "\n",
    "🔹 **Immutable types:** `int, float, str, tuple, frozenset`\n"
   ]
  },
  {
   "cell_type": "code",
   "execution_count": null,
   "id": "7f897686",
   "metadata": {},
   "outputs": [],
   "source": [
    "Name = \"Mahesh\"\n",
    "print(Name)\n",
    "print(id(Name))\n",
    "Name = \"Mahesh kumar\"\n",
    "print(Name)\n",
    "print(id(Name))"
   ]
  },
  {
   "cell_type": "markdown",
   "id": "75a89bd7",
   "metadata": {},
   "source": [
    "### Mutable Data Types ✏️\n",
    "**Definition:** Data types that **can** be changed after declaration.\n",
    "\n",
    "```python\n",
    "my_list = [1,2,3,4,5,9]\n",
    "print(my_list)\n",
    "print(id(my_list))\n",
    "my_list.append(10)\n",
    "print(my_list)\n",
    "print(id(my_list))\n",
    "```\n",
    "\n",
    "🔹 **Mutable types:** `list, dict, set, bytearray`"
   ]
  },
  {
   "cell_type": "code",
   "execution_count": null,
   "id": "ffe7fee2",
   "metadata": {},
   "outputs": [],
   "source": [
    "grocery_items = ['Rice','millets','oil','sugar','dal']\n",
    "print(grocery_items)\n",
    "print(id(grocery_items))\n",
    "grocery_items.append('atta')\n",
    "print(grocery_items)\n",
    "print(id(grocery_items))"
   ]
  },
  {
   "cell_type": "markdown",
   "id": "d3f0d44a",
   "metadata": {},
   "source": [
    "### **id()** Function 🔍\n",
    "Used to fetch the memory address of an object."
   ]
  },
  {
   "cell_type": "code",
   "execution_count": null,
   "id": "c6e30d62",
   "metadata": {},
   "outputs": [],
   "source": [
    "a = 10\n",
    "\n",
    "print(a)\n",
    "print(type(a))\n",
    "print(id(a))"
   ]
  },
  {
   "cell_type": "markdown",
   "id": "9adf9c6a",
   "metadata": {},
   "source": [
    "## Input & Output Operations 🎤📢\n",
    "\n",
    "### **input()** Function ⌨️\n",
    "Used to take user input.\n",
    "\n",
    "```python\n",
    "data = input(\"Enter the data: \")\n",
    "print(data)\n",
    "print(type(data))\n",
    "\n",
    "✅ **Example:** Taking two numbers from the user and adding them.\n",
    "\n",
    "num1 = int(input(\"Enter the number 1: \"))\n",
    "num2 = int(input(\"Enter the number 2: \"))\n",
    "print(num1 + num2)\n",
    "```"
   ]
  },
  {
   "cell_type": "code",
   "execution_count": 9,
   "id": "a0917f0e",
   "metadata": {},
   "outputs": [
    {
     "name": "stdout",
     "output_type": "stream",
     "text": [
      "10\n",
      "<class 'str'>\n"
     ]
    }
   ],
   "source": [
    "data = input(\"Enter the data: \")\n",
    "print(data)\n",
    "print(type(data))"
   ]
  },
  {
   "cell_type": "markdown",
   "id": "d707cbc3",
   "metadata": {},
   "source": [
    "✅ **Example:** Taking two numbers from the user and adding them."
   ]
  },
  {
   "cell_type": "code",
   "execution_count": 11,
   "id": "65a6c2b5",
   "metadata": {},
   "outputs": [
    {
     "name": "stdout",
     "output_type": "stream",
     "text": [
      "16\n"
     ]
    }
   ],
   "source": [
    "num1 = int(input(\"Enter the number 1: \"))\n",
    "num2 = int(input(\"Enter the number 2: \"))\n",
    "print(num1 + num2)"
   ]
  },
  {
   "cell_type": "code",
   "execution_count": null,
   "id": "395922be",
   "metadata": {},
   "outputs": [],
   "source": []
  },
  {
   "cell_type": "markdown",
   "id": "f7f52dfa",
   "metadata": {},
   "source": [
    "### **print()** Function 🖨️\n",
    "**General Syntax:**\n",
    "```python\n",
    "print(data, sep=\" \", end=\"\\n\")\n",
    "```\n",
    "\n",
    "📝 **Defaults:**\n",
    "- `sep = \" \" (space as separator)`\n",
    "- `end = \"\\n\" (new line after printing)`\n",
    "---\n",
    "#### 🔹 Printing Examples:"
   ]
  },
  {
   "cell_type": "code",
   "execution_count": 19,
   "id": "98437893",
   "metadata": {},
   "outputs": [
    {
     "name": "stdout",
     "output_type": "stream",
     "text": [
      "\n",
      "data1\n",
      "data1 data2\n",
      "10/5/1996\n",
      "Data3\n"
     ]
    }
   ],
   "source": [
    "#✅ **Empty Print:**\n",
    "print()\n",
    "\n",
    "#✅ **Single Data:**\n",
    "\n",
    "print('data1')\n",
    "\n",
    "#✅ **Multiple Data:**\n",
    "\n",
    "print('data1', 'data2')\n",
    "\n",
    "day = 10\n",
    "month = 5\n",
    "year = 1996\n",
    "\n",
    "print(day,month,year,sep=\"/\",end=\"\\n\")\n",
    "print('Data3')\n"
   ]
  },
  {
   "cell_type": "markdown",
   "id": "0db9b057",
   "metadata": {},
   "source": [
    "✅ **Formatted Output:**"
   ]
  },
  {
   "cell_type": "code",
   "execution_count": null,
   "id": "8f53e77a",
   "metadata": {},
   "outputs": [],
   "source": [
    "print(\"I am a Python programmer\")\n",
    "name = \"Mahesh\"\n",
    "course = \"Python\"\n",
    "college = \"Besant\"\n",
    "print(\"name\", name, \"course\", course, \"college\", college)\n",
    "print(\"name {} course {} college {}\".format(name, course, college))\n",
    "print(f\"name {name} course {course} college {college}\")"
   ]
  },
  {
   "cell_type": "markdown",
   "id": "7cac5571",
   "metadata": {},
   "source": [
    "### **eval()** Function 🎯 \n",
    "Used to convert input data into its original data type."
   ]
  },
  {
   "cell_type": "code",
   "execution_count": null,
   "id": "76e1d885",
   "metadata": {},
   "outputs": [],
   "source": [
    "name = input(\"Enter the name:\")\n",
    "subject = input(\"Enter the subject name: \")\n",
    "marks = eval(input(\"Enter the marks: \"))\n",
    "percentage = eval(input(\"Enter the percentage: \"))\n",
    "print(name)\n",
    "print(type(name))\n",
    "print(subject)\n",
    "print(type(subject))\n",
    "print(marks)\n",
    "print(type(marks))\n",
    "print(percentage)\n",
    "print(type(percentage))"
   ]
  },
  {
   "cell_type": "code",
   "execution_count": null,
   "id": "73b193d2",
   "metadata": {},
   "outputs": [],
   "source": []
  },
  {
   "cell_type": "code",
   "execution_count": null,
   "id": "26ae5d5b",
   "metadata": {},
   "outputs": [],
   "source": []
  },
  {
   "cell_type": "markdown",
   "id": "5f9c9264",
   "metadata": {},
   "source": []
  }
 ],
 "metadata": {
  "kernelspec": {
   "display_name": "Python 3",
   "language": "python",
   "name": "python3"
  },
  "language_info": {
   "codemirror_mode": {
    "name": "ipython",
    "version": 3
   },
   "file_extension": ".py",
   "mimetype": "text/x-python",
   "name": "python",
   "nbconvert_exporter": "python",
   "pygments_lexer": "ipython3",
   "version": "3.13.9"
  }
 },
 "nbformat": 4,
 "nbformat_minor": 5
}
