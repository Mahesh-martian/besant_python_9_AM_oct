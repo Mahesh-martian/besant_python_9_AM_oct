{
 "cells": [
  {
   "cell_type": "markdown",
   "id": "2047f8d4",
   "metadata": {},
   "source": [
    "## 🚀 Python Basics - Identifiers, Variables & Data Types\n",
    "\n",
    "### Features of Python 🐍\n",
    "\n",
    "- 1️⃣ **Easy to Learn & Readable** – Simple syntax like English.\n",
    "- 2️⃣ **Interpreted Language** – No compilation needed, executes line by line.\n",
    "- 3️⃣ **Dynamically Typed** – No need to declare variable types.\n",
    "- 4️⃣ **Object-Oriented** – Supports classes and objects.\n",
    "- 5️⃣ **Extensive Libraries** – Rich set of built-in modules (NumPy, Pandas, etc.).\n",
    "- 6️⃣ **Platform Independent** – Runs on Windows, macOS, Linux.\n",
    "- 7️⃣ **Memory Management** – Automatic garbage collection.\n",
    "- 8️⃣ **Multi-Paradigm** – Supports procedural, functional, and OOP styles.\n",
    "- 9️⃣ **Scalability** – Used in web dev, AI, ML, data science, and more!\n",
    "\n",
    "---\n",
    "\n",
    "## 🆔 Identifiers\n",
    "Identifiers are the names used in Python to define functions, modules, methods, classes, and variables.\n",
    "\n",
    "### ✅ Rules for Identifiers:\n",
    "- Must start with a letter (A-Z or a-z) or an underscore (_).\n",
    "- Followed by letters, digits (0-9), or underscores.\n",
    "- Cannot be a reserved keyword.\n",
    "- Case-sensitive (e.g., **name** and **Name** are different).\n",
    "- Cannot contain special characters like **@**, **#**, **$**, **%**, **etc**.\n",
    "---\n",
    "> 💡 **Example:**\n",
    "```python\n",
    "my_variable = 10  # ✅Valid identifier\n",
    "_variable = 20    # ✅Valid identifier\n",
    "2variable = 30    # ❌ Invalid identifier (Cannot start with a number)\n",
    "class = 40        # ❌ Invalid identifier (Reserved keyword)\n",
    "```\n"
   ]
  },
  {
   "cell_type": "markdown",
   "id": "30cf20d3",
   "metadata": {},
   "source": []
  },
  {
   "cell_type": "code",
   "execution_count": null,
   "id": "bccd5d89",
   "metadata": {},
   "outputs": [],
   "source": [
    "my_variable = 10  # ✅Valid identifier\n",
    "_variable = 20    # ✅Valid identifier\n",
    "2variable = 30    # ❌ Invalid identifier (Cannot start with a number)\n",
    "class = 40        # ❌ Invalid identifier (Reserved keyword)"
   ]
  },
  {
   "cell_type": "markdown",
   "id": "2414dca5",
   "metadata": {},
   "source": [
    "## 🔢 Variables\n",
    "Variables are containers that hold data values in Python.\n",
    "\n",
    "### 📌 Declaring Variables:\n",
    "```python\n",
    "x = 5          # Integer\n",
    "name = \"Alice\" # String\n",
    "is_valid = True # Boolean\n",
    "```\n",
    "> 📝 **Note:** Python is dynamically typed, meaning you don’t need to declare the type explicitly.\n",
    "\n",
    "---"
   ]
  },
  {
   "cell_type": "code",
   "execution_count": null,
   "id": "c338575f",
   "metadata": {},
   "outputs": [],
   "source": [
    "x = 5          # Integer\n",
    "name = \"Alice\" # String\n",
    "is_valid = True # Boolean"
   ]
  },
  {
   "cell_type": "markdown",
   "id": "87d1d689",
   "metadata": {},
   "source": [
    "## 📊 Data Types\n",
    "Data types define the type of value a variable can store.\n",
    "\n",
    "| Data Type   | Example                  | Description                          |\n",
    "|------------|--------------------------|--------------------------------------|\n",
    "| **Integer** | `10, 100, -5`             | Whole numbers                        |\n",
    "| **Float**   | `10.6, 695.3`             | Decimal numbers                      |\n",
    "| **Boolean** | `True, False`             | Represents True/False values         |\n",
    "| **Byte**    | `b'128'`                   | Sequence of bytes                    |\n",
    "| **ByteArray** | `bytearray(b'124')`     | Mutable byte sequence                |\n",
    "| **None**    | `None`                    | Represents a null value              |\n",
    "\n",
    "---\n",
    "\n",
    "| Data Type   | Example                  | Description                          |\n",
    "|------------|--------------------------|--------------------------------------|\n",
    "| **Complex** | `10+20j`                  | Complex numbers (real & imaginary)   |\n",
    "| **List**    | `[1, 12, 23, 3, 5]`       | Ordered, mutable collection          |\n",
    "| **Tuple**   | `(1, 2, 3, 6, 4, 7)`      | Ordered, immutable collection        |\n",
    "| **Set**     | `{1, 2, 5, 47, 3}`        | Unordered, unique values             |\n",
    "| **Dictionary** | `{'a': 1, 'b': 2}`    | Key-value pairs                      |\n",
    "| **String**  | `\"abcdef\"`                 | Sequence of characters              |\n",
    "| **FrozenSet** | `frozenset({1,2,3,5})` | Immutable set                        |\n",
    "| **Range**   | `range(1, 10)`            | Sequence of numbers                  |\n",
    "\n",
    "---\n",
    "\n",
    "## 🔍 Checking Data Types\n",
    "Use the `type()` function to check the type of a variable."
   ]
  },
  {
   "cell_type": "code",
   "execution_count": null,
   "id": "c78675a3",
   "metadata": {},
   "outputs": [],
   "source": [
    "data = {1, 2, 3, 4, 5, 6}  # Set\n",
    "data = {'course': \"Python\"}  # Dictionary\n",
    "data = \"Python\"  # String\n",
    "data = 10 + 16j  # Complex Number\n",
    "\n",
    "print(data)\n",
    "print(type(data))"
   ]
  },
  {
   "cell_type": "markdown",
   "id": "998eed6d",
   "metadata": {},
   "source": [
    "🎯 **Summary:**\n",
    "- Identifiers follow naming rules and cannot use special characters.\n",
    "- Variables store data and Python dynamically assigns types.\n",
    "- Different data types exist in Python, each with a specific purpose.\n",
    "- Use `type()` to check the data type of a variable."
   ]
  },
  {
   "cell_type": "markdown",
   "id": "39b76a2a",
   "metadata": {},
   "source": []
  }
 ],
 "metadata": {
  "language_info": {
   "name": "python"
  }
 },
 "nbformat": 4,
 "nbformat_minor": 5
}
