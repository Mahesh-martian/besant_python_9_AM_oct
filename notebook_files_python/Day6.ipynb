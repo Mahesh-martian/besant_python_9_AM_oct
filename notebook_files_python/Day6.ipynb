{
  "cells": [
    {
      "cell_type": "markdown",
      "metadata": {},
      "source": [
        "# 🌟 Range & Loops in Python 🚀\n",
        "\n",
        "## 📚 Introduction\n",
        "Loops are used to execute a block of code repeatedly. Python provides two main types of loops:\n",
        "- **for loop**: Iterates over a sequence (range, list, string, etc.)\n",
        "- **while loop**: Repeats as long as a condition is True\n",
        "\n",
        "---\n",
        "\n",
        "## 🔢 Range\n",
        "\n",
        "**📝 Note:** The `range()` function generates a sequence of numbers. It's commonly used in for loops.\n",
        "\n",
        "### 📌 Syntax\n",
        "```python\n",
        "range(start, stop, step)\n",
        "```\n",
        "\n",
        "**Parameters:**\n",
        "- `start`: Starting number (default: 0)\n",
        "- `stop`: End number (exclusive - not included)\n",
        "- `step`: Increment value (default: 1)\n",
        "\n",
        "**💡 Important:** The stop value is NOT included in the range!"
      ]
    },
    {
      "cell_type": "code",
      "execution_count": 2,
      "metadata": {},
      "outputs": [
        {
          "name": "stdout",
          "output_type": "stream",
          "text": [
            "range(0, 10)\n",
            "[0, 1, 2, 3, 4, 5, 6, 7, 8, 9]\n"
          ]
        }
      ],
      "source": [
        "print(range(10))\n",
        "print(list(range(10)))"
      ]
    },
    {
      "cell_type": "code",
      "execution_count": 3,
      "metadata": {},
      "outputs": [
        {
          "name": "stdout",
          "output_type": "stream",
          "text": [
            "[0, 1, 2, 3, 4, 5, 6, 7, 8, 9]\n",
            "[0, 1, 2, 3, 4, 5, 6, 7, 8, 9]\n",
            "[0, 1, 2, 3, 4, 5, 6, 7, 8, 9]\n"
          ]
        }
      ],
      "source": [
        "print(list(range(10)))\n",
        "print(list(range(0,10)))\n",
        "print(list(range(0,10,1)))"
      ]
    },
    {
      "cell_type": "code",
      "execution_count": 7,
      "metadata": {},
      "outputs": [
        {
          "name": "stdout",
          "output_type": "stream",
          "text": [
            "[0, 2, 4, 6, 8, 10, 12, 14, 16, 18]\n",
            "[1, 3, 5, 7, 9, 11, 13, 15, 17, 19]\n",
            "[10, 9, 8, 7, 6, 5, 4, 3, 2, 1]\n",
            "[-10, -9, -8, -7, -6, -5, -4, -3, -2, -1]\n"
          ]
        }
      ],
      "source": [
        "print(list(range(0,20,2)))\n",
        "print(list(range(1,20,2)))\n",
        "print(list(range(10,0,-1)))\n",
        "print(list(range(-10,0,1)))"
      ]
    },
    {
      "cell_type": "markdown",
      "metadata": {},
      "source": [
        "**🔍 Understanding the Output:**\n",
        "- `range(10)` → [0, 1, 2, 3, 4, 5, 6, 7, 8, 9] (stops at 9, not 10)\n",
        "- `range(0,10,1)` → Same as above (explicit start, stop, step)\n",
        "- `range(0,20,2)` → [0, 2, 4, 6, ..., 18] (only even numbers, step=2)\n",
        "- `range(-10,0,1)` → [-10, -9, -8, ..., -1] (negative to zero)\n",
        "\n",
        "---\n",
        "\n",
        "### 📝 WAP (Write a Program)\n",
        "**Practice Problems:**\n",
        "1. Display only the **odd numbers** from 0 to 20 using `range()`\n",
        "2. Display only the **even numbers** from 0 to 20 using `range()`\n",
        "3. Display the numbers from **10 to 1** in descending order using `range()`"
      ]
    },
    {
      "cell_type": "code",
      "execution_count": null,
      "metadata": {},
      "outputs": [],
      "source": [
        "# Solution 1: Odd numbers from 0 to 20\n",
        "print(\"Odd numbers:\")\n",
        "print(list(range(1, 21, 2)))  # Start at 1, step by 2\n",
        "\n",
        "# Solution 2: Even numbers from 0 to 20\n",
        "print(\"\\nEven numbers:\")\n",
        "print(list(range(0, 21, 2)))  # Start at 0, step by 2\n",
        "\n",
        "# Solution 3: Numbers from 10 to 1 (descending)\n",
        "print(\"\\nDescending order:\")\n",
        "print(list(range(10, 0, -1)))  # Start at 10, stop before 0, step -1"
      ]
    },
    {
      "cell_type": "markdown",
      "metadata": {},
      "source": [
        "**💡 Key Insight:** For descending order, use a negative step value!\n",
        "\n",
        "---\n",
        "\n",
        "## 🔁 Iterative Statements\n",
        "\n",
        "### 🔹 Types of Loops\n",
        "\n",
        "#### 🔄 For Loop\n",
        "**📝 Note:** For loops iterate over a sequence (range, list, string, tuple, etc.)\n",
        "\n",
        "**Syntax:**\n",
        "```python\n",
        "for variable in sequence:\n",
        "    # code to execute\n",
        "```\n",
        "\n",
        "**💡 Tip:** The variable takes each value from the sequence one at a time."
      ]
    },
    {
      "cell_type": "code",
      "execution_count": 2,
      "metadata": {},
      "outputs": [
        {
          "name": "stdout",
          "output_type": "stream",
          "text": [
            "1\n",
            "2\n",
            "3\n",
            "4\n"
          ]
        }
      ],
      "source": [
        "for i in range(1,5):\n",
        "    print(i)"
      ]
    },
    {
      "cell_type": "code",
      "execution_count": 4,
      "metadata": {},
      "outputs": [
        {
          "name": "stdout",
          "output_type": "stream",
          "text": [
            "Hello world\n",
            "Hello world\n",
            "Hello world\n"
          ]
        }
      ],
      "source": [
        "for i in range(3):\n",
        "    print(\"Hello world\")"
      ]
    },
    {
      "cell_type": "markdown",
      "metadata": {},
      "source": [
        "**🔍 Explanation:** This loop prints 1, 2, 3, 4 (stops before 5)\n",
        "\n",
        "---\n",
        "\n",
        "#### 🔢 Print Even Numbers\n",
        "**📝 Note:** This uses the modulus operator `%` to check if a number is even.\n",
        "\n",
        "**💡 Concept:** A number is even if `number % 2 == 0` (remainder is 0)"
      ]
    },
    {
      "cell_type": "code",
      "execution_count": null,
      "metadata": {},
      "outputs": [],
      "source": [
        "for i in range(10):\n",
        "    if i%2 == 0:\n",
        "        print(i)"
      ]
    },
    {
      "cell_type": "markdown",
      "metadata": {},
      "source": [
        "**⚡ More Efficient Method:** Use `range(0, 20, 2)` instead of checking each number!\n",
        "\n",
        "---\n",
        "\n",
        "### 📝 WAP: Sum of Numbers in a List\n",
        "**📝 Note:** This demonstrates:\n",
        "- Iterating through a list\n",
        "- Accumulating values in a variable\n",
        "- Tracking intermediate results\n",
        "\n",
        "**💡 Pattern:** `result = result + i` can be written as `result += i`"
      ]
    },
    {
      "cell_type": "code",
      "execution_count": null,
      "metadata": {},
      "outputs": [
        {
          "name": "stdout",
          "output_type": "stream",
          "text": [
            "i =  0 result =  0\n",
            "**********\n",
            "result =  0\n",
            "i =  1 result =  0\n",
            "**********\n",
            "result =  1\n",
            "i =  2 result =  1\n",
            "**********\n",
            "result =  3\n",
            "i =  3 result =  3\n",
            "**********\n",
            "result =  6\n",
            "i =  4 result =  6\n",
            "**********\n",
            "result =  10\n",
            "i =  5 result =  10\n",
            "**********\n",
            "result =  15\n",
            "i =  6 result =  15\n",
            "**********\n",
            "result =  21\n",
            "i =  7 result =  21\n",
            "**********\n",
            "result =  28\n",
            "i =  8 result =  28\n",
            "**********\n",
            "result =  36\n",
            "i =  9 result =  36\n",
            "**********\n",
            "result =  45\n",
            "i =  10 result =  45\n",
            "**********\n",
            "result =  55\n"
          ]
        }
      ],
      "source": [
        "result = 0\n",
        "num = 10\n",
        "\n",
        "for i in range(num+1):\n",
        "    print(\"i = \",i, \"result = \", result)\n",
        "    result = result + i\n",
        "    print('*'*10)\n",
        "    print(\"result = \" ,result)\n"
      ]
    },
    {
      "cell_type": "code",
      "execution_count": null,
      "metadata": {},
      "outputs": [],
      "source": [
        "lst1 = list(range(21))\n",
        "result = 0\n",
        "for i in lst1:\n",
        "    print('i = ', i)\n",
        "    result = result + i\n",
        "    print(\"result = \", result)\n",
        "print(result)"
      ]
    },
    {
      "cell_type": "markdown",
      "metadata": {},
      "source": [
        "**🔍 Mathematical Formula:** Sum of first n numbers = `n × (n + 1) / 2`\n",
        "\n",
        "For n=20: 20 × 21 / 2 = 210\n",
        "\n",
        "---\n",
        "\n",
        "#### 🔄 While Loop\n",
        "**📝 Note:** While loops continue executing as long as the condition is True.\n",
        "\n",
        "**Syntax:**\n",
        "```python\n",
        "while condition:\n",
        "    # code to execute\n",
        "    # update condition variable\n",
        "```\n",
        "\n",
        "**⚠️ Warning:** Always update the condition variable, or you'll create an infinite loop!\n",
        "\n",
        "**💡 Use Case:** While loops are best when you don't know how many iterations you need."
      ]
    },
    {
      "cell_type": "code",
      "execution_count": null,
      "metadata": {},
      "outputs": [],
      "source": [
        "# Print numbers from 0 to 5\n",
        "i = 0\n",
        "while i <= 5:\n",
        "    print(i)\n",
        "    i += 1"
      ]
    },
    {
      "cell_type": "markdown",
      "metadata": {},
      "source": [
        "---\n",
        "\n",
        "### 📝 Print \"Python\" 3 times\n",
        "**📝 Note:** This shows both loop types can achieve the same result.\n",
        "\n",
        "**💡 When to use which?**\n",
        "- **For loop**: When you know the exact number of iterations\n",
        "- **While loop**: When iterations depend on a condition"
      ]
    },
    {
      "cell_type": "code",
      "execution_count": null,
      "metadata": {},
      "outputs": [],
      "source": [
        "# Using for loop\n",
        "print(\"Using for loop:\")\n",
        "for i in range(3):\n",
        "    print(\"Python\")\n",
        "\n",
        "print(\"\\nUsing while loop:\")\n",
        "# Using while loop\n",
        "count = 1\n",
        "while count < 4:\n",
        "    print(\"Python\")\n",
        "    count += 1"
      ]
    },
    {
      "cell_type": "markdown",
      "metadata": {},
      "source": [
        "---\n",
        "\n",
        "### 📝 Display the sum of first n numbers using while loop\n",
        "**📝 Note:** Same logic as the for loop example, but using while loop.\n",
        "\n",
        "**💡 Variable naming:** `val` is the current number, `result` stores the sum"
      ]
    },
    {
      "cell_type": "code",
      "execution_count": null,
      "metadata": {},
      "outputs": [],
      "source": [
        "n = 10\n",
        "val = 0\n",
        "result = 0\n",
        "while val <= n:\n",
        "    result += val\n",
        "    val += 1\n",
        "print(result)"
      ]
    },
    {
      "cell_type": "markdown",
      "metadata": {},
      "source": [
        "**🔍 Verification:** Sum of 0 to 10 = 10 × 11 / 2 = 55 ✓\n",
        "\n",
        "---\n",
        "\n",
        "### 📝 Print Multiplication Table of 15\n",
        "**📝 Note:** Multiplication tables are a classic loop application.\n",
        "\n",
        "**💡 Format:** We use multiple arguments in `print()` separated by commas"
      ]
    },
    {
      "cell_type": "code",
      "execution_count": null,
      "metadata": {},
      "outputs": [],
      "source": [
        "number = 15\n",
        "for i in range(1,11):\n",
        "    print(number, \"X\", i, \"=\", number*i)"
      ]
    },
    {
      "cell_type": "markdown",
      "metadata": {},
      "source": [
        "**💡 Enhancement:** Try using f-strings: `print(f\"{number} X {i} = {number*i}\")`\n",
        "\n",
        "---\n",
        "\n",
        "### 📝 Keep asking user for input until they type 'Python'\n",
        "**📝 Note:** This demonstrates a validation loop - common in user input scenarios.\n",
        "\n",
        "**💡 Pattern:** Loop continues until a specific condition is met"
      ]
    },
    {
      "cell_type": "code",
      "execution_count": null,
      "metadata": {},
      "outputs": [],
      "source": [
        "name = \"\"\n",
        "while name != \"Python\":\n",
        "    name = input(\"Enter the name: \")\n",
        "    print(name)"
      ]
    },
    {
      "cell_type": "markdown",
      "metadata": {},
      "source": [
        "**⚠️ Note:** This is case-sensitive! \"python\" ≠ \"Python\"\n",
        "\n",
        "**💡 Tip:** Use `name.lower() != \"python\"` for case-insensitive comparison\n",
        "\n",
        "---\n",
        "\n",
        "### ⚠️ Infinite Loop Example\n",
        "**📝 Note:** An infinite loop runs forever because the condition is always True.\n",
        "\n",
        "**⚠️ WARNING:** Don't run this in a notebook without a way to stop it! Use Ctrl+C in terminal or interrupt kernel in Jupyter.\n",
        "\n",
        "**💡 Use Case:** Infinite loops are useful for:\n",
        "- Server programs that run continuously\n",
        "- Game loops\n",
        "- Programs waiting for user input"
      ]
    },
    {
      "cell_type": "code",
      "execution_count": null,
      "metadata": {},
      "outputs": [],
      "source": [
        "# ⚠️ DON'T RUN THIS - It will loop forever!\n",
        "# Uncomment only if you know how to stop it\n",
        "\n",
        "# while True:\n",
        "#     print(\"Hello world\")"
      ]
    },
    {
      "cell_type": "markdown",
      "metadata": {},
      "source": [
        "---\n",
        "\n",
        "## 🔄 Nested Loops\n",
        "**📝 Note:** A nested loop is a loop inside another loop.\n",
        "\n",
        "**💡 How it works:**\n",
        "1. Outer loop runs once\n",
        "2. Inner loop runs completely for each outer loop iteration\n",
        "3. Then outer loop moves to next iteration\n",
        "\n",
        "**🔍 Complexity:** If outer loop runs n times and inner loop runs m times, total iterations = n × m"
      ]
    },
    {
      "cell_type": "code",
      "execution_count": null,
      "metadata": {},
      "outputs": [],
      "source": [
        "for i in range(10):\n",
        "    for j in range(i):\n",
        "        print(\"i =\", i, \"j =\", j)"
      ]
    },
    {
      "cell_type": "markdown",
      "metadata": {},
      "source": [
        "**🔍 Analysis:**\n",
        "- When i=0: inner loop doesn't run (range(0) is empty)\n",
        "- When i=1: j runs 0 times (0)\n",
        "- When i=2: j runs 0,1\n",
        "- When i=3: j runs 0,1,2\n",
        "- And so on...\n",
        "\n",
        "---\n",
        "\n",
        "## 🌟 Pattern Printing\n",
        "**📝 Note:** Pattern printing is great for understanding nested loops!\n",
        "\n",
        "### ✅ Increasing Star Pattern\n",
        "**💡 Technique:** `\"*\" * n` creates a string with n stars"
      ]
    },
    {
      "cell_type": "code",
      "execution_count": null,
      "metadata": {},
      "outputs": [],
      "source": [
        "for i in range(5):\n",
        "    print(\"*\" * i)"
      ]
    },
    {
      "cell_type": "markdown",
      "metadata": {},
      "source": [
        "**🔍 Output:**\n",
        "```\n",
        "(empty line - 0 stars)\n",
        "*\n",
        "**\n",
        "***\n",
        "****\n",
        "```\n",
        "\n",
        "**💡 To start from 1 star:** Use `range(1, 6)` instead\n",
        "\n",
        "---\n",
        "\n",
        "### ✅ Decreasing Star Pattern\n",
        "**📝 Note:** Using negative step in range for descending pattern"
      ]
    },
    {
      "cell_type": "code",
      "execution_count": null,
      "metadata": {},
      "outputs": [],
      "source": [
        "for i in range(5, 0, -1):\n",
        "    print('*' * i)"
      ]
    },
    {
      "cell_type": "markdown",
      "metadata": {},
      "source": [
        "**🔍 Output:**\n",
        "```\n",
        "*****\n",
        "****\n",
        "***\n",
        "**\n",
        "*\n",
        "```\n",
        "\n",
        "**💡 Practice:** Try creating:\n",
        "- Right-aligned triangle\n",
        "- Pyramid pattern\n",
        "- Diamond pattern\n",
        "\n",
        "---\n",
        "\n",
        "## 🔀 Transfer Statements\n",
        "**📝 Note:** Transfer statements control the flow of loops.\n",
        "\n",
        "### Three types:\n",
        "1. **pass** - Does nothing (placeholder)\n",
        "2. **continue** - Skips current iteration, moves to next\n",
        "3. **break** - Exits the loop completely\n",
        "\n",
        "---\n",
        "\n",
        "## ⚡ **pass**\n",
        "**📝 Note:** `pass` is a null statement - it does nothing.\n",
        "\n",
        "**💡 Use Case:** Used as a placeholder when:\n",
        "- You need syntactically valid code but don't want to implement it yet\n",
        "- Creating empty functions or classes for later implementation\n",
        "\n",
        "**Example Use Cases:**\n",
        "- Defining function structure before implementation\n",
        "- Creating abstract base classes\n",
        "- Placeholder in if-else blocks"
      ]
    },
    {
      "cell_type": "code",
      "execution_count": null,
      "metadata": {},
      "outputs": [],
      "source": [
        "def dummy():\n",
        "    pass\n",
        "\n",
        "class demo:\n",
        "    pass\n",
        "\n",
        "# These will run without errors\n",
        "dummy()\n",
        "obj = demo()\n",
        "print(\"Pass statement allows empty code blocks!\")"
      ]
    },
    {
      "cell_type": "markdown",
      "metadata": {},
      "source": [
        "---\n",
        "\n",
        "## ⏭ **continue**\n",
        "**📝 Note:** `continue` skips the rest of the current iteration and moves to the next one.\n",
        "\n",
        "**💡 Use Case:** When you want to skip certain values but continue looping\n",
        "\n",
        "**Example:** Skip multiples of 5"
      ]
    },
    {
      "cell_type": "code",
      "execution_count": null,
      "metadata": {},
      "outputs": [],
      "source": [
        "for i in range(20):\n",
        "    if i % 5 == 0:\n",
        "        continue\n",
        "    print(i)"
      ]
    },
    {
      "cell_type": "markdown",
      "metadata": {},
      "source": [
        "**🔍 Explanation:** Numbers 0, 5, 10, 15 are skipped because they're divisible by 5\n",
        "\n",
        "**💡 Key Difference:**\n",
        "- `continue` → Skip to next iteration\n",
        "- `break` → Exit loop completely\n",
        "\n",
        "---\n",
        "\n",
        "## 🛑 **break**\n",
        "**📝 Note:** `break` immediately exits the loop, regardless of the loop condition.\n",
        "\n",
        "**💡 Use Case:** When you want to stop the loop based on a specific condition\n",
        "\n",
        "**Example:** Stop infinite loop after 10 iterations"
      ]
    },
    {
      "cell_type": "code",
      "execution_count": null,
      "metadata": {},
      "outputs": [],
      "source": [
        "idx = 0\n",
        "while True:\n",
        "    idx += 1\n",
        "    print(idx)\n",
        "    if idx == 10:\n",
        "        break"
      ]
    },
    {
      "cell_type": "markdown",
      "metadata": {},
      "source": [
        "**🔍 Explanation:** Loop runs forever (`while True`) but breaks when idx reaches 10\n",
        "\n",
        "**💡 Common Use Cases for break:**\n",
        "- Searching for an item (break when found)\n",
        "- User wants to exit (break on specific input)\n",
        "- Error condition detected\n",
        "- Target condition met\n",
        "\n",
        "---\n",
        "\n",
        "## 📖 Study Tips & Summary\n",
        "\n",
        "### 🎯 Key Concepts to Master:\n",
        "\n",
        "#### **Range Function:**\n",
        "- `range(stop)` → 0 to stop-1\n",
        "- `range(start, stop)` → start to stop-1\n",
        "- `range(start, stop, step)` → with custom increment\n",
        "- Negative step for descending order\n",
        "\n",
        "#### **For Loop vs While Loop:**\n",
        "| Feature | For Loop | While Loop |\n",
        "|---------|----------|------------|\n",
        "| Best for | Known iterations | Unknown iterations |\n",
        "| Syntax | `for i in sequence:` | `while condition:` |\n",
        "| Example | Print 1-10 | Keep asking until correct |\n",
        "\n",
        "#### **Transfer Statements:**\n",
        "- `pass` → Do nothing (placeholder)\n",
        "- `continue` → Skip to next iteration\n",
        "- `break` → Exit loop immediately\n",
        "\n",
        "### 💪 Practice Exercises:\n",
        "\n",
        "1. **Easy:**\n",
        "   - Print all numbers from 50 to 1 using range\n",
        "   - Print multiplication table of any number\n",
        "   - Print first 10 even numbers\n",
        "\n",
        "2. **Medium:**\n",
        "   - Print sum of all odd numbers from 1 to 100\n",
        "   - Print factorial of a number using loops\n",
        "   - Check if a number is prime using loops\n",
        "\n",
        "3. **Hard:**\n",
        "   - Print pyramid pattern with numbers\n",
        "   - Print Fibonacci series up to n terms\n",
        "   - Find all prime numbers between 1 and 100\n",
        "\n",
        "### ⚠️ Common Mistakes to Avoid:\n",
        "\n",
        "1. **Infinite Loops:** Forgetting to update loop variable in while loop\n",
        "2. **Off-by-One Errors:** Remember range(10) goes 0-9, not 1-10\n",
        "3. **Indentation:** Loop body must be indented\n",
        "4. **Using break/continue outside loops:** Will cause syntax error\n",
        "5. **Modifying sequence while iterating:** Can cause unexpected behavior\n",
        "\n",
        "### 🎓 Advanced Topics to Explore:\n",
        "- List comprehensions (compact for loops)\n",
        "- enumerate() for index + value\n",
        "- zip() for parallel iteration\n",
        "- Loop else clause\n",
        "- Generator expressions\n",
        "\n",
        "---\n",
        "\n",
        "## 🏆 Challenge Problems:\n",
        "\n",
        "Try solving these on your own:\n",
        "\n",
        "1. Write a program to find the sum of digits of a number\n",
        "2. Print all Armstrong numbers between 1 and 1000\n",
        "3. Create a number guessing game using while loop\n",
        "4. Print Pascal's triangle using nested loops\n",
        "5. Find the GCD of two numbers using loops"
      ]
    }
  ],
  "metadata": {
    "kernelspec": {
      "display_name": "Python 3",
      "language": "python",
      "name": "python3"
    },
    "language_info": {
      "codemirror_mode": {
        "name": "ipython",
        "version": 3
      },
      "file_extension": ".py",
      "mimetype": "text/x-python",
      "name": "python",
      "nbconvert_exporter": "python",
      "pygments_lexer": "ipython3",
      "version": "3.13.9"
    }
  },
  "nbformat": 4,
  "nbformat_minor": 4
}
