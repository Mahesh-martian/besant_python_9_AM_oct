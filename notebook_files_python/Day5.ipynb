{
  "cells": [
    {
      "cell_type": "markdown",
      "metadata": {},
      "source": [
        "# Control Flow Statements\n",
        "\n",
        "## 📚 Introduction\n",
        "Control flow statements allow you to control the execution path of your program based on certain conditions. They help make decisions in your code.\n",
        "\n",
        "### Key Concepts:\n",
        "- **if statement**: Executes code when a condition is True\n",
        "- **elif statement**: Checks another condition if the previous one was False\n",
        "- **else statement**: Executes when all previous conditions are False\n",
        "\n",
        "---\n",
        "\n",
        "## Conditional Statements\n",
        "\n",
        "### Example 1\n",
        "**📝 Note:** This example uses `>=` (greater than or equal to) operator. The condition checks if `a` is 10 or more."
      ]
    },
    {
      "cell_type": "code",
      "execution_count": 8,
      "metadata": {},
      "outputs": [
        {
          "name": "stdout",
          "output_type": "stream",
          "text": [
            "Eligible for Commerce\n"
          ]
        }
      ],
      "source": [
        "perc = 75\n",
        "\n",
        "if perc > 80:\n",
        "    print(\"Eligible for Science\")\n",
        "elif perc > 70:\n",
        "     print(\"Eligible for Commerce\")\n",
        "else:\n",
        "    print(\"Eligible for arts\")\n"
      ]
    },
    {
      "cell_type": "code",
      "execution_count": 5,
      "metadata": {},
      "outputs": [
        {
          "name": "stdout",
          "output_type": "stream",
          "text": [
            "a is equal to 10\n"
          ]
        }
      ],
      "source": [
        "a = 10\n",
        "\n",
        "if a >= 10:\n",
        "    print(\"a is equal to 10\")\n",
        "else:\n",
        "    print(\"b is not equal to 10\")"
      ]
    },
    {
      "cell_type": "markdown",
      "metadata": {},
      "source": [
        "---\n",
        "### Example 2\n",
        "**📝 Note:** Here we use `>` (greater than) instead of `>=`. Since `a = 10`, the condition `a > 10` is False, so the else block executes."
      ]
    },
    {
      "cell_type": "code",
      "execution_count": null,
      "metadata": {},
      "outputs": [],
      "source": [
        "a = 10\n",
        "if a > 10:\n",
        "    print(\"a is equal to 10\")\n",
        "else:\n",
        "    print(\"a is not equal to 10\")"
      ]
    },
    {
      "cell_type": "markdown",
      "metadata": {},
      "source": [
        "---\n",
        "\n",
        "### Example 3: User Input\n",
        "**📝 Note:** The `elif` statement allows you to check multiple conditions. The code checks conditions in order from top to bottom and stops at the first True condition.\n",
        "\n",
        "**💡 Tip:** String comparison in Python is case-sensitive. \"Science\" ≠ \"science\""
      ]
    },
    {
      "cell_type": "code",
      "execution_count": null,
      "metadata": {},
      "outputs": [],
      "source": [
        "course = input(\"Enter the course name: \")\n",
        "\n",
        "if course == \"Science\":\n",
        "    print(\"Interested in science\")\n",
        "elif course == \"Commerce\":\n",
        "    print(\"Interested in commerce\")\n",
        "else:\n",
        "    print(\"Interested in arts\")"
      ]
    },
    {
      "cell_type": "markdown",
      "metadata": {},
      "source": [
        "---\n",
        "\n",
        "## Conditional Statements with Multiple Conditions\n",
        "**📝 Note:** You can have multiple `elif` statements. Python checks them in order and executes the first True condition block.\n",
        "\n",
        "**⚠️ Important:** Once a condition is True, Python skips all remaining elif/else blocks."
      ]
    },
    {
      "cell_type": "code",
      "execution_count": null,
      "metadata": {},
      "outputs": [],
      "source": [
        "a = 10\n",
        "b = 20\n",
        "\n",
        "if a < b:\n",
        "    print(\"inside if1\")\n",
        "    print(\"a is lesser than b\")\n",
        "elif True:\n",
        "    print()\n",
        "elif a > b:\n",
        "    print(\"inside if2\")\n",
        "    print(\"a is greater than b\")\n",
        "else:\n",
        "    print(\"inside else\")"
      ]
    },
    {
      "cell_type": "markdown",
      "metadata": {},
      "source": [
        "---\n",
        "\n",
        "## Finding the Greatest Number\n",
        "**📝 Note:** This program compares two numbers and prints the larger one.\n",
        "\n",
        "**💡 Tip:** `int()` converts string input to integer. Without it, Python would compare strings instead of numbers."
      ]
    },
    {
      "cell_type": "code",
      "execution_count": null,
      "metadata": {},
      "outputs": [],
      "source": [
        "num1 = int(input(\"Enter the number 1: \"))\n",
        "num2 = int(input(\"Enter the number 2: \"))\n",
        "\n",
        "if num1 > num2:\n",
        "    print(num1)\n",
        "else:\n",
        "    print(num2)"
      ]
    },
    {
      "cell_type": "markdown",
      "metadata": {},
      "source": [
        "---\n",
        "\n",
        "## Finding the Least Number Among Three Numbers\n",
        "**📝 Note:** This uses **chained comparison** (`num1 < num2 < num3`), which is a Python feature that checks if num1 < num2 AND num2 < num3.\n",
        "\n",
        "**💡 Practice:** Try to identify what happens when:\n",
        "- num1 = 5, num2 = 10, num3 = 15 (Answer: prints 5)\n",
        "- num1 = 10, num2 = 5, num3 = 15 (Answer: prints 5)\n",
        "- num1 = 15, num2 = 10, num3 = 5 (Answer: prints 5)"
      ]
    },
    {
      "cell_type": "code",
      "execution_count": null,
      "metadata": {},
      "outputs": [],
      "source": [
        "num1 = int(input(\"Enter the number 1: \"))\n",
        "num2 = int(input(\"Enter the number 2: \"))\n",
        "num3 = int(input(\"Enter the number 3: \"))\n",
        "\n",
        "if num1 < num2 < num3:\n",
        "    print(num1)\n",
        "elif num2 < num3:\n",
        "    print(num2)\n",
        "else:\n",
        "    print(num3)"
      ]
    },
    {
      "cell_type": "markdown",
      "metadata": {},
      "source": [
        "---\n",
        "\n",
        "## Nested If Conditions\n",
        "**📝 Note:** Nested if statements are if statements inside other if statements. Each level of nesting increases indentation.\n",
        "\n",
        "**⚠️ Important:** While this works, deeply nested if statements can be hard to read. Consider using `elif` instead when possible.\n",
        "\n",
        "**Better Alternative:**\n",
        "```python\n",
        "if letter == \"A\":\n",
        "    print(\"letter is A\")\n",
        "elif letter == \"B\":\n",
        "    print(\"letter is B\")\n",
        "elif letter == \"C\":\n",
        "    print(\"letter is C\")\n",
        "else:\n",
        "    print(\"letter isn't A, B and C\")\n",
        "```"
      ]
    },
    {
      "cell_type": "code",
      "execution_count": null,
      "metadata": {},
      "outputs": [
        {
          "name": "stdout",
          "output_type": "stream",
          "text": [
            "Eligible for Commerce\n",
            "Eligible for HEBA\n"
          ]
        }
      ],
      "source": [
        "perc = 70\n",
        "\n",
        "if perc >= 80:\n",
        "    print(\"Eligible for Science\")\n",
        "    if perc >= 95:\n",
        "        print(\"Eligible for PCMB\")\n",
        "    elif perc >= 85:\n",
        "        print(\"Eligible for PCME\")\n",
        "    else:\n",
        "        print(\"Eligible for PCMC\")\n",
        "elif perc >= 60:\n",
        "    print(\"Eligible for Commerce\")\n",
        "    if perc >= 65:\n",
        "        print(\"Eligible for HEBA\")\n",
        "    else :\n",
        "        print(\"Eligible for SEBA\")\n",
        "else:\n",
        "        print(\"Eligible for Arts\")\n"
      ]
    },
    {
      "cell_type": "code",
      "execution_count": 11,
      "metadata": {},
      "outputs": [
        {
          "name": "stdout",
          "output_type": "stream",
          "text": [
            "letter is A\n"
          ]
        }
      ],
      "source": [
        "letter = \"A\"\n",
        "\n",
        "if letter == \"B\":\n",
        "    print(\"letter is B\")\n",
        "else:\n",
        "    if letter == \"C\":\n",
        "        print(\"letter is C\")\n",
        "    else:\n",
        "        if letter == \"A\":\n",
        "            print(\"letter is A\")\n",
        "        else:\n",
        "            print(\"letter isn't A, B and C\")"
      ]
    },
    {
      "cell_type": "markdown",
      "metadata": {},
      "source": [
        "---\n",
        "\n",
        "## Username and Password Validation\n",
        "**📝 Note:** This example demonstrates:\n",
        "- **Logical AND (`and`)**: Both conditions must be True\n",
        "- **Logical OR (`or`)**: At least one condition must be True\n",
        "- **Nested conditions**: Checking specific cases\n",
        "\n",
        "**⚠️ Security Warning:** Never store passwords in plain text in real applications! This is for learning purposes only.\n",
        "\n",
        "**💡 Logic Flow:**\n",
        "1. If both username AND password match → Login successful\n",
        "2. If only username OR only password matches → Give specific error\n",
        "3. If neither matches → General error message"
      ]
    },
    {
      "cell_type": "code",
      "execution_count": 14,
      "metadata": {},
      "outputs": [
        {
          "name": "stdout",
          "output_type": "stream",
          "text": [
            "invalid credentials\n"
          ]
        }
      ],
      "source": [
        "user_name = \"MAHESH\"\n",
        "pwd = 12345\n",
        "\n",
        "uname = input(\"Enter the user name:\\t\")\n",
        "upwd = eval(input(\"Enter the password:\\t\"))\n",
        "\n",
        "if uname == user_name and pwd == upwd:\n",
        "    print(\"login successfull\")\n",
        "else:\n",
        "    print(\"invalid credentials\")"
      ]
    },
    {
      "cell_type": "code",
      "execution_count": 17,
      "metadata": {},
      "outputs": [
        {
          "name": "stdout",
          "output_type": "stream",
          "text": [
            "correct username incorrect password\n"
          ]
        }
      ],
      "source": [
        "user_name = \"MAHESH\"\n",
        "pwd = 12345\n",
        "\n",
        "uname = input(\"Enter the user name:\\t\")\n",
        "upwd = eval(input(\"Enter the password:\\t\"))\n",
        "\n",
        "if user_name == uname and pwd == upwd:\n",
        "    print(\"Login successful!\")\n",
        "elif user_name == uname or pwd == upwd:\n",
        "    if user_name == uname and pwd != upwd:\n",
        "        print(\"correct username incorrect password\")\n",
        "    elif user_name != uname and pwd == upwd:\n",
        "        print(\"correct password incorrect username\")\n",
        "else:\n",
        "    print(\"Please enter the valid password and username\")"
      ]
    },
    {
      "cell_type": "markdown",
      "metadata": {},
      "source": [
        "---\n",
        "\n",
        "## 🧮 Practical Applications\n",
        "\n",
        "## Age Calculator\n",
        "**📝 Note:** This program calculates age by subtracting birth year from current year.\n",
        "\n",
        "**💡 Formula:** `Age = Current Year - Birth Year`\n",
        "\n",
        "**Enhancement Ideas:**\n",
        "- Add month and day for more accurate age calculation\n",
        "- Validate that birth year is not in the future\n",
        "- Handle invalid inputs"
      ]
    },
    {
      "cell_type": "code",
      "execution_count": null,
      "metadata": {},
      "outputs": [],
      "source": [
        "birth_year = int(input(\"Enter your birth year: \"))\n",
        "current_year = 2024\n",
        "age = current_year - birth_year\n",
        "print(f\"Your age is {age}\")"
      ]
    },
    {
      "cell_type": "markdown",
      "metadata": {},
      "source": [
        "## Tip Calculator\n",
        "**📝 Note:** This calculates the tip amount and total bill including tip.\n",
        "\n",
        "**💡 Formula:**\n",
        "- `Tip = (Bill Amount × Tip Percentage) / 100`\n",
        "- `Total = Bill Amount + Tip`\n",
        "\n",
        "**Example:** If bill is $100 and tip is 15%, then tip = $15 and total = $115\n",
        "\n",
        "**💡 f-strings:** The `f\"...{variable}...\"` syntax is called an f-string, used for formatting output."
      ]
    },
    {
      "cell_type": "code",
      "execution_count": null,
      "metadata": {},
      "outputs": [],
      "source": [
        "bill_amount = float(input(\"Enter the bill amount: \"))\n",
        "tip_percentage = float(input(\"Enter the tip percentage: \"))\n",
        "tip = (bill_amount * tip_percentage) / 100\n",
        "total = bill_amount + tip\n",
        "print(f\"Tip: {tip}\")\n",
        "print(f\"Total amount to be paid: {total}\")"
      ]
    },
    {
      "cell_type": "markdown",
      "metadata": {},
      "source": [
        "---\n",
        "\n",
        "## BMI Calculator\n",
        "**📝 Note:** BMI (Body Mass Index) measures body fat based on height and weight.\n",
        "\n",
        "**💡 Formula:** `BMI = Weight (kg) / [Height (m)]²`\n",
        "\n",
        "**Conversion:** 1 foot = 0.3048 meters\n",
        "\n",
        "**BMI Categories:**\n",
        "- Below 18.5: Underweight\n",
        "- 18.5 - 24.9: Normal weight\n",
        "- 25 - 29.9: Overweight\n",
        "- 30 and above: Obese\n",
        "\n",
        "**⚠️ Note:** The formula in this code has an error! The correct formula should be:\n",
        "```python\n",
        "Height_in_meters = Height * 0.3048\n",
        "BMI = Weight / (Height_in_meters ** 2)\n",
        "```"
      ]
    },
    {
      "cell_type": "code",
      "execution_count": null,
      "metadata": {},
      "outputs": [],
      "source": [
        "Weight = eval(input(\"Please enter the weight in kg's: \\t\"))\n",
        "Height = eval(input(\"Please enter the height in ft : \\t\"))\n",
        "\n",
        "BMI = Weight / (Height * 0.3048)\n",
        "print(\"Your BMI is\", BMI)"
      ]
    },
    {
      "cell_type": "markdown",
      "metadata": {},
      "source": [
        "---\n",
        "\n",
        "## 📖 Study Tips\n",
        "\n",
        "### Key Points to Remember:\n",
        "1. **Indentation is crucial** - Python uses indentation to define code blocks\n",
        "2. **Comparison operators:** `==`, `!=`, `<`, `>`, `<=`, `>=`\n",
        "3. **Logical operators:** `and`, `or`, `not`\n",
        "4. **Order matters** - Conditions are checked from top to bottom\n",
        "5. **Use elif, not multiple ifs** - When you want only one condition to execute\n",
        "\n",
        "### Practice Exercises:\n",
        "1. Write a program to check if a number is positive, negative, or zero\n",
        "2. Create a grade calculator (A, B, C, D, F) based on marks\n",
        "3. Build a simple calculator with if-elif-else\n",
        "4. Write a program to check if a year is a leap year\n",
        "5. Create a program to find the largest of three numbers\n",
        "\n",
        "### Common Mistakes to Avoid:\n",
        "- Forgetting the colon (`:`) after if/elif/else\n",
        "- Incorrect indentation\n",
        "- Using `=` (assignment) instead of `==` (comparison)\n",
        "- Not converting input to the right type (int, float)\n",
        "- Using `eval()` with untrusted input (security risk)"
      ]
    }
  ],
  "metadata": {
    "kernelspec": {
      "display_name": "Python 3",
      "language": "python",
      "name": "python3"
    },
    "language_info": {
      "codemirror_mode": {
        "name": "ipython",
        "version": 3
      },
      "file_extension": ".py",
      "mimetype": "text/x-python",
      "name": "python",
      "nbconvert_exporter": "python",
      "pygments_lexer": "ipython3",
      "version": "3.13.9"
    }
  },
  "nbformat": 4,
  "nbformat_minor": 4
}
