{
  "cells": [
    {
      "cell_type": "markdown",
      "id": "a89d54c7-3021-4c3c-a0a1-bbbf3b89d76e",
      "metadata": {},
      "source": [
        "# Advanced Data Types in Python - Lists"
      ]
    },
    {
      "cell_type": "markdown",
      "id": "947f5423-8a8c-4e00-b10d-06ab4bfa2c9a",
      "metadata": {},
      "source": [
        "### Table of Contents\n",
        "1. Introduction to Lists\n",
        "2. Creating Lists\n",
        "3. Accessing Elements\n",
        "4. Modifying Lists\n",
        "5. Nested Lists\n",
        "6. List Slicing\n",
        "7. Examples and Applications"
      ]
    },
    {
      "cell_type": "markdown",
      "id": "c8a19e0d-bb23-4f83-bdc9-d100c8a95742",
      "metadata": {},
      "source": [
        "## Introduction to Lists\n",
        "### What is a List?\n",
        "- An **ordered collection** of data elements.\n",
        "- Supports both **homogeneous** and **heterogeneous** data.\n",
        "- Allows duplicate values.\n",
        "- Uses **square brackets `[]`** for representation.\n",
        "- Elements are accessed using **indices**."
      ]
    },
    {
      "cell_type": "code",
      "execution_count": 16,
      "id": "1b59d0e6-c928-4c73-b7f8-aebea7a089c3",
      "metadata": {},
      "outputs": [
        {
          "name": "stdout",
          "output_type": "stream",
          "text": [
            "[]\n"
          ]
        }
      ],
      "source": [
        "# Example of an empty list\n",
        "# my_list = []\n",
        "my_list = list()\n",
        "print(my_list)  # Output: []"
      ]
    },
    {
      "cell_type": "code",
      "execution_count": 17,
      "id": "e0f8a69d-5279-4f31-bb7f-d1c1259beef8",
      "metadata": {},
      "outputs": [
        {
          "name": "stdout",
          "output_type": "stream",
          "text": [
            "[1, 'hello', True, None, 2, 4, 6, 8]\n"
          ]
        }
      ],
      "source": [
        "# Example of a heterogeneous list\n",
        "mixed_list = [1, \"hello\", True, None,2,4,6,8]\n",
        "print(mixed_list)"
      ]
    },
    {
      "cell_type": "markdown",
      "id": "9a4f58c0-7d6e-44c4-a203-bbeefb1d2c87",
      "metadata": {},
      "source": [
        "## Creating Lists"
      ]
    },
    {
      "cell_type": "markdown",
      "id": "a9f502e3-6491-4770-af14-c7c886d1be10",
      "metadata": {},
      "source": [
        "### Empty List"
      ]
    },
    {
      "cell_type": "code",
      "execution_count": null,
      "id": "0a5e3f3b-f42d-4349-b7b4-ea0c8d6a1cfc",
      "metadata": {},
      "outputs": [],
      "source": [
        "empty_list = []\n",
        "print(empty_list)"
      ]
    },
    {
      "cell_type": "markdown",
      "id": "e5f23918-7b40-46d2-bc37-dc0d3a9ae9ab",
      "metadata": {},
      "source": [
        "### Using `list()` Constructor"
      ]
    },
    {
      "cell_type": "code",
      "execution_count": null,
      "id": "f1b5e875-440d-46be-b006-d3a28f9c73ae",
      "metadata": {},
      "outputs": [],
      "source": [
        "range_list = list(range(10))\n",
        "print(range_list)  # Output: [0, 1, 2, ..., 9]"
      ]
    },
    {
      "cell_type": "markdown",
      "id": "f56c438a-7d6b-4e88-bb9c-6f35b75aabbb",
      "metadata": {},
      "source": [
        "## Accessing Elements"
      ]
    },
    {
      "cell_type": "markdown",
      "id": "7018a6d2-cf34-48be-b9ba-d0c262e56b50",
      "metadata": {},
      "source": [
        "### Positive Indexing"
      ]
    },
    {
      "cell_type": "code",
      "execution_count": 18,
      "id": "1d7a3f75-c854-43ab-b509-625ba2cfc3e5",
      "metadata": {},
      "outputs": [
        {
          "name": "stdout",
          "output_type": "stream",
          "text": [
            "3\n"
          ]
        }
      ],
      "source": [
        "my_list = [1, 2, 3, 4, 5]\n",
        "print(my_list[2])  # Output: 3"
      ]
    },
    {
      "cell_type": "markdown",
      "id": "e8c0b6f7-984a-461d-8097-b0dfc51a5ab1",
      "metadata": {},
      "source": [
        "### Negative Indexing"
      ]
    },
    {
      "cell_type": "code",
      "execution_count": 19,
      "id": "e23f7b14-c3a6-4d3a-a9d8-b0c84a5cc98d",
      "metadata": {},
      "outputs": [
        {
          "name": "stdout",
          "output_type": "stream",
          "text": [
            "5\n",
            "3\n"
          ]
        }
      ],
      "source": [
        "print(my_list[-1])  # Output: 5\n",
        "print(my_list[-3])  # Output: 3"
      ]
    },
    {
      "cell_type": "code",
      "execution_count": null,
      "id": "1ebb3c6f",
      "metadata": {},
      "outputs": [],
      "source": []
    },
    {
      "cell_type": "markdown",
      "id": "a7b9f0c6-4518-43e2-a87c-cf3e90d9a7b1",
      "metadata": {},
      "source": [
        "### Slicing"
      ]
    },
    {
      "cell_type": "code",
      "execution_count": null,
      "id": "c4960038-3b1d-4272-b5f7-88676e49a33d",
      "metadata": {},
      "outputs": [],
      "source": [
        "print(my_list[1:4])  # Output: [2, 3, 4]\n",
        "print(my_list[:3])   # Output: [1, 2, 3]\n",
        "print(my_list[3:])  # Output: [4, 5]"
      ]
    },
    {
      "cell_type": "markdown",
      "id": "c0f8d7e6-9a21-4b78-a7ab-cf1aab6a099b",
      "metadata": {},
      "source": [
        " ## Modifying Lists"
      ]
    },
    {
      "cell_type": "markdown",
      "id": "5a0c75e5-250d-48be-bb6a-df0efdf399d8",
      "metadata": {},
      "source": [
        "### Mutable Nature"
      ]
    },
    {
      "cell_type": "code",
      "execution_count": 20,
      "id": "8b0c147e-0b4e-4625-a5a3-cf9d3bfa8e34",
      "metadata": {},
      "outputs": [
        {
          "name": "stdout",
          "output_type": "stream",
          "text": [
            "[1, 2, 6, 4, 5]\n"
          ]
        }
      ],
      "source": [
        "my_list = [1, 2, 3, 4, 5]\n",
        "my_list[2] = 6\n",
        "print(my_list)  # Output: [1, 2, 6, 4, 5]"
      ]
    },
    {
      "cell_type": "markdown",
      "id": "a8c730c9-3e8b-4d24-b30f-80c7a60a2416",
      "metadata": {},
      "source": [
        "### Appending Elements"
      ]
    },
    {
      "cell_type": "code",
      "execution_count": null,
      "id": "59782e0b-cd39-4d44-a95d-d6c8f3a1d875",
      "metadata": {},
      "outputs": [],
      "source": [
        "my_list.append(7)\n",
        "print(my_list)  # Output: [1, 2, 6, 4, 5, 7]\n",
        "\n",
        "another_list = [8, 9]\n",
        "my_list.extend(another_list)\n",
        "print(my_list)  # Output: [1, 2, 6, 4, 5, 7, 8, 9]"
      ]
    },
    {
      "cell_type": "code",
      "execution_count": 21,
      "id": "2254681e",
      "metadata": {},
      "outputs": [
        {
          "data": {
            "text/plain": [
              "[1, 2, 6, 4]"
            ]
          },
          "execution_count": 21,
          "metadata": {},
          "output_type": "execute_result"
        }
      ],
      "source": [
        "my_list.pop()\n",
        "my_list"
      ]
    },
    {
      "cell_type": "code",
      "execution_count": 22,
      "id": "f1d47c9d",
      "metadata": {},
      "outputs": [
        {
          "data": {
            "text/plain": [
              "[1, 6, 4]"
            ]
          },
          "execution_count": 22,
          "metadata": {},
          "output_type": "execute_result"
        }
      ],
      "source": [
        "my_list.remove(2)\n",
        "my_list"
      ]
    },
    {
      "cell_type": "code",
      "execution_count": 24,
      "id": "6fc23c45",
      "metadata": {},
      "outputs": [
        {
          "data": {
            "text/plain": [
              "[2, 2, 4, 5, 5, 6, 9, 76, 89]"
            ]
          },
          "execution_count": 24,
          "metadata": {},
          "output_type": "execute_result"
        }
      ],
      "source": [
        "lst = [2,4,76,9,5,89,2,5,6]\n",
        "lst.sort()\n",
        "lst"
      ]
    },
    {
      "cell_type": "code",
      "execution_count": 25,
      "id": "53abb54b",
      "metadata": {},
      "outputs": [
        {
          "data": {
            "text/plain": [
              "[89, 76, 9, 6, 5, 5, 4, 2, 2]"
            ]
          },
          "execution_count": 25,
          "metadata": {},
          "output_type": "execute_result"
        }
      ],
      "source": [
        "lst = [2,4,76,9,5,89,2,5,6]\n",
        "lst.sort(reverse=True)\n",
        "lst"
      ]
    },
    {
      "cell_type": "code",
      "execution_count": 26,
      "id": "6eb3065b",
      "metadata": {},
      "outputs": [
        {
          "data": {
            "text/plain": [
              "[6, 5, 2, 89, 5, 9, 76, 4, 2]"
            ]
          },
          "execution_count": 26,
          "metadata": {},
          "output_type": "execute_result"
        }
      ],
      "source": [
        "lst = [2,4,76,9,5,89,2,5,6]\n",
        "lst.reverse()\n",
        "lst"
      ]
    },
    {
      "cell_type": "code",
      "execution_count": null,
      "id": "26155ee8",
      "metadata": {},
      "outputs": [],
      "source": [
        "lst.clear()"
      ]
    },
    {
      "cell_type": "code",
      "execution_count": 28,
      "id": "697d57ad",
      "metadata": {},
      "outputs": [
        {
          "data": {
            "text/plain": [
              "[]"
            ]
          },
          "execution_count": 28,
          "metadata": {},
          "output_type": "execute_result"
        }
      ],
      "source": [
        "lst"
      ]
    },
    {
      "cell_type": "code",
      "execution_count": 29,
      "id": "9b02eb6f",
      "metadata": {},
      "outputs": [
        {
          "ename": "NameError",
          "evalue": "name 'lst' is not defined",
          "output_type": "error",
          "traceback": [
            "\u001b[31m---------------------------------------------------------------------------\u001b[39m",
            "\u001b[31mNameError\u001b[39m                                 Traceback (most recent call last)",
            "\u001b[36mCell\u001b[39m\u001b[36m \u001b[39m\u001b[32mIn[29]\u001b[39m\u001b[32m, line 2\u001b[39m\n\u001b[32m      1\u001b[39m \u001b[38;5;28;01mdel\u001b[39;00m lst\n\u001b[32m----> \u001b[39m\u001b[32m2\u001b[39m \u001b[43mlst\u001b[49m\n",
            "\u001b[31mNameError\u001b[39m: name 'lst' is not defined"
          ]
        }
      ],
      "source": [
        "del lst\n",
        "lst"
      ]
    },
    {
      "cell_type": "markdown",
      "id": "9a0f81c3-3bfb-4eab-8d5e-19550d26f904",
      "metadata": {},
      "source": [
        "## Nested Lists"
      ]
    },
    {
      "cell_type": "markdown",
      "id": "57f7c3a1-bbda-4844-a63e-dc942e90a3d8",
      "metadata": {},
      "source": [
        "### Example of Nested Lists"
      ]
    },
    {
      "cell_type": "code",
      "execution_count": 32,
      "id": "f375163b-25aa-4042-bbaa-cd7c1e388974",
      "metadata": {},
      "outputs": [
        {
          "name": "stdout",
          "output_type": "stream",
          "text": [
            "[[1, 2, 3], [4, 5, 6], 7, 8, 9]\n"
          ]
        }
      ],
      "source": [
        "nested_list = [ [1, 2, 3], [4, 5, 6] ,7,8,9]\n",
        "print(nested_list)  # Output: [[1, 2, 3], [4, 5, 6]]"
      ]
    },
    {
      "cell_type": "code",
      "execution_count": 31,
      "id": "df3f51c5",
      "metadata": {},
      "outputs": [
        {
          "data": {
            "text/plain": [
              "5"
            ]
          },
          "execution_count": 31,
          "metadata": {},
          "output_type": "execute_result"
        }
      ],
      "source": [
        "nested_list[1][1]"
      ]
    },
    {
      "cell_type": "code",
      "execution_count": 33,
      "id": "6dd64c0e",
      "metadata": {},
      "outputs": [
        {
          "data": {
            "text/plain": [
              "8"
            ]
          },
          "execution_count": 33,
          "metadata": {},
          "output_type": "execute_result"
        }
      ],
      "source": [
        "nested_list[3]"
      ]
    },
    {
      "cell_type": "markdown",
      "id": "d8a7c0f4-9e5e-48b1-bcde-fc56b18b24dc",
      "metadata": {},
      "source": [
        "## List Slicing"
      ]
    },
    {
      "cell_type": "markdown",
      "id": "b3a80fba-c953-413d-ba7e-6c0c5e897ab2",
      "metadata": {},
      "source": [
        "### Example of List Slicing"
      ]
    },
    {
      "cell_type": "code",
      "execution_count": null,
      "id": "a83f377e-a81b-4d86-bc09-55d80092cfc0",
      "metadata": {},
      "outputs": [],
      "source": [
        "my_list = [1, 2, 3, 4, 5]\n",
        "print(my_list[::2])  # Output: [1, 3, 5]"
      ]
    },
    {
      "cell_type": "markdown",
      "id": "a90e77f2-6d58-4cde-8693-d3b1a8f90649",
      "metadata": {},
      "source": [
        "## Examples and Applications"
      ]
    },
    {
      "cell_type": "markdown",
      "id": "e7a08d2b-7c25-4a37-a9f1-88d6e544e4b3",
      "metadata": {},
      "source": [
        "### Example 1: Using Lists to Store Grades"
      ]
    },
    {
      "cell_type": "code",
      "execution_count": null,
      "id": "98c3204c-e3a5-4f76-8d45-b5dc277b81e3",
      "metadata": {},
      "outputs": [],
      "source": [
        "grades = [85, 90, 95]\n",
        "print(grades)  # Output: [85, 90, 95]"
      ]
    },
    {
      "cell_type": "markdown",
      "id": "0a16f37c-d924-4eab-b38b-cd55094c1b43",
      "metadata": {},
      "source": [
        "### Example 2: Modifying a List"
      ]
    },
    {
      "cell_type": "code",
      "execution_count": null,
      "id": "1f76a78a-9a3e-458e-8f88-c8c3e048b6ae",
      "metadata": {},
      "outputs": [],
      "source": [
        "my_list = [1, 2, 3, 4, 5]\n",
        "my_list[2] = 10\n",
        "print(my_list)  # Output: [1, 2, 10, 4, 5]"
      ]
    },
    {
      "cell_type": "markdown",
      "id": "b7d83f9e-05c3-4ab6-83a6-d46bea84e825",
      "metadata": {},
      "source": [
        "### Example 3: Slicing and Modifying"
      ]
    },
    {
      "cell_type": "code",
      "execution_count": null,
      "id": "f978c0b7-7d9c-4d1e-bd8c-25a6e6a79df4",
      "metadata": {},
      "outputs": [],
      "source": [
        "my_list = [1, 2, 3, 4, 5]\n",
        "sliced_list = my_list[2:4]\n",
        "print(sliced_list)  # Output: [3, 4]"
      ]
    }
  ],
  "metadata": {
    "kernelspec": {
      "display_name": "Python 3",
      "language": "python",
      "name": "python3"
    },
    "language_info": {
      "codemirror_mode": {
        "name": "ipython",
        "version": 3
      },
      "file_extension": ".py",
      "mimetype": "text/x-python",
      "name": "python",
      "nbconvert_exporter": "python",
      "pygments_lexer": "ipython3",
      "version": "3.13.9"
    },
    "toc-autocollapse": false,
    "toc-hide": true
  },
  "nbformat": 4,
  "nbformat_minor": 5
}
