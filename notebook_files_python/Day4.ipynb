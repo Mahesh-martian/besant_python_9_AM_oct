{
 "cells": [
  {
   "cell_type": "markdown",
   "id": "54148c50",
   "metadata": {},
   "source": [
    "# 🧮 Python Operators\n",
    "\n",
    "Operators are symbols that perform operations on operands."
   ]
  },
  {
   "cell_type": "markdown",
   "id": "4b9b98cf",
   "metadata": {},
   "source": [
    "# 🔢 Assignment Operators"
   ]
  },
  {
   "cell_type": "code",
   "execution_count": 1,
   "id": "79f3437f",
   "metadata": {},
   "outputs": [
    {
     "name": "stdout",
     "output_type": "stream",
     "text": [
      "30\n"
     ]
    }
   ],
   "source": [
    "a = 10\n",
    "b = 20\n",
    "print(a + b)"
   ]
  },
  {
   "cell_type": "code",
   "execution_count": 2,
   "id": "11673a31",
   "metadata": {},
   "outputs": [
    {
     "name": "stdout",
     "output_type": "stream",
     "text": [
      "-10\n"
     ]
    }
   ],
   "source": [
    "print(a - b)"
   ]
  },
  {
   "cell_type": "code",
   "execution_count": 3,
   "id": "4d86a182",
   "metadata": {},
   "outputs": [
    {
     "name": "stdout",
     "output_type": "stream",
     "text": [
      "0.5\n"
     ]
    }
   ],
   "source": [
    "print(a / b)"
   ]
  },
  {
   "cell_type": "code",
   "execution_count": 4,
   "id": "c970bd3b",
   "metadata": {},
   "outputs": [
    {
     "name": "stdout",
     "output_type": "stream",
     "text": [
      "200\n"
     ]
    }
   ],
   "source": [
    "print(a * b)"
   ]
  },
  {
   "cell_type": "code",
   "execution_count": 5,
   "id": "94ca7892",
   "metadata": {},
   "outputs": [
    {
     "name": "stdout",
     "output_type": "stream",
     "text": [
      "100000000000000000000\n"
     ]
    }
   ],
   "source": [
    "print(a ** b)"
   ]
  },
  {
   "cell_type": "code",
   "execution_count": 6,
   "id": "fc2133e4",
   "metadata": {},
   "outputs": [
    {
     "name": "stdout",
     "output_type": "stream",
     "text": [
      "0\n"
     ]
    }
   ],
   "source": [
    "print(a // b)"
   ]
  },
  {
   "cell_type": "code",
   "execution_count": 7,
   "id": "5562ed1d",
   "metadata": {},
   "outputs": [
    {
     "name": "stdout",
     "output_type": "stream",
     "text": [
      "0\n"
     ]
    }
   ],
   "source": [
    "print(b % a)"
   ]
  },
  {
   "cell_type": "markdown",
   "id": "ef3f9173",
   "metadata": {},
   "source": [
    "# 🔄 Comparison Operators"
   ]
  },
  {
   "cell_type": "code",
   "execution_count": 8,
   "id": "3d54cf82",
   "metadata": {},
   "outputs": [
    {
     "name": "stdout",
     "output_type": "stream",
     "text": [
      "True\n"
     ]
    }
   ],
   "source": [
    "a = 10\n",
    "b = 20\n",
    "c = 10\n",
    "print(a < b)"
   ]
  },
  {
   "cell_type": "code",
   "execution_count": 9,
   "id": "d55d4a00",
   "metadata": {},
   "outputs": [
    {
     "name": "stdout",
     "output_type": "stream",
     "text": [
      "False\n"
     ]
    }
   ],
   "source": [
    "print(a > b)"
   ]
  },
  {
   "cell_type": "code",
   "execution_count": 10,
   "id": "a2391117",
   "metadata": {},
   "outputs": [
    {
     "name": "stdout",
     "output_type": "stream",
     "text": [
      "True\n"
     ]
    }
   ],
   "source": [
    "print(a <= b)"
   ]
  },
  {
   "cell_type": "code",
   "execution_count": 11,
   "id": "2be9e88b",
   "metadata": {},
   "outputs": [
    {
     "name": "stdout",
     "output_type": "stream",
     "text": [
      "False\n"
     ]
    }
   ],
   "source": [
    "print(a >= b)"
   ]
  },
  {
   "cell_type": "code",
   "execution_count": 12,
   "id": "615ee2f5",
   "metadata": {},
   "outputs": [
    {
     "name": "stdout",
     "output_type": "stream",
     "text": [
      "True\n"
     ]
    }
   ],
   "source": [
    "print(a <= c)"
   ]
  },
  {
   "cell_type": "code",
   "execution_count": 13,
   "id": "3fc3e7c6",
   "metadata": {},
   "outputs": [
    {
     "name": "stdout",
     "output_type": "stream",
     "text": [
      "True\n"
     ]
    }
   ],
   "source": [
    "print(a >= c)"
   ]
  },
  {
   "cell_type": "markdown",
   "id": "dbfb0dcd",
   "metadata": {},
   "source": [
    "# ⚖️ Equality Operators"
   ]
  },
  {
   "cell_type": "code",
   "execution_count": 14,
   "id": "ad77a38b",
   "metadata": {},
   "outputs": [
    {
     "name": "stdout",
     "output_type": "stream",
     "text": [
      "False\n"
     ]
    }
   ],
   "source": [
    "a = 10\n",
    "b = 20\n",
    "print(a == b)"
   ]
  },
  {
   "cell_type": "code",
   "execution_count": 15,
   "id": "97679a62",
   "metadata": {},
   "outputs": [
    {
     "name": "stdout",
     "output_type": "stream",
     "text": [
      "True\n"
     ]
    }
   ],
   "source": [
    "print(b != a)"
   ]
  },
  {
   "cell_type": "markdown",
   "id": "e195d4c5",
   "metadata": {},
   "source": [
    "# 🧠 Logical Operators"
   ]
  },
  {
   "cell_type": "code",
   "execution_count": 16,
   "id": "d4b650a1",
   "metadata": {},
   "outputs": [
    {
     "name": "stdout",
     "output_type": "stream",
     "text": [
      "True\n"
     ]
    }
   ],
   "source": [
    "print(True and True)"
   ]
  },
  {
   "cell_type": "code",
   "execution_count": 17,
   "id": "1824f38c",
   "metadata": {},
   "outputs": [
    {
     "name": "stdout",
     "output_type": "stream",
     "text": [
      "False\n"
     ]
    }
   ],
   "source": [
    "print(True and False)"
   ]
  },
  {
   "cell_type": "code",
   "execution_count": 18,
   "id": "ed746142",
   "metadata": {},
   "outputs": [
    {
     "name": "stdout",
     "output_type": "stream",
     "text": [
      "False\n"
     ]
    }
   ],
   "source": [
    "print(False and True)"
   ]
  },
  {
   "cell_type": "code",
   "execution_count": 19,
   "id": "d85fbd41",
   "metadata": {},
   "outputs": [
    {
     "name": "stdout",
     "output_type": "stream",
     "text": [
      "False\n"
     ]
    }
   ],
   "source": [
    "print(False and False)"
   ]
  },
  {
   "cell_type": "code",
   "execution_count": 20,
   "id": "d7bc493e",
   "metadata": {},
   "outputs": [
    {
     "name": "stdout",
     "output_type": "stream",
     "text": [
      "True\n"
     ]
    }
   ],
   "source": [
    "print(True or True)"
   ]
  },
  {
   "cell_type": "code",
   "execution_count": 21,
   "id": "21dc1929",
   "metadata": {},
   "outputs": [
    {
     "name": "stdout",
     "output_type": "stream",
     "text": [
      "True\n"
     ]
    }
   ],
   "source": [
    "print(True or False)"
   ]
  },
  {
   "cell_type": "code",
   "execution_count": 22,
   "id": "8f89f5c9",
   "metadata": {},
   "outputs": [
    {
     "name": "stdout",
     "output_type": "stream",
     "text": [
      "True\n"
     ]
    }
   ],
   "source": [
    "print(False or True)"
   ]
  },
  {
   "cell_type": "code",
   "execution_count": 23,
   "id": "e2d2369d",
   "metadata": {},
   "outputs": [
    {
     "name": "stdout",
     "output_type": "stream",
     "text": [
      "False\n"
     ]
    }
   ],
   "source": [
    "print(False or False)"
   ]
  },
  {
   "cell_type": "code",
   "execution_count": 24,
   "id": "01affd5b",
   "metadata": {},
   "outputs": [
    {
     "name": "stdout",
     "output_type": "stream",
     "text": [
      "False\n"
     ]
    }
   ],
   "source": [
    "print(not True)"
   ]
  },
  {
   "cell_type": "code",
   "execution_count": 25,
   "id": "d30129da",
   "metadata": {},
   "outputs": [
    {
     "name": "stdout",
     "output_type": "stream",
     "text": [
      "True\n"
     ]
    }
   ],
   "source": [
    "print(not False)"
   ]
  },
  {
   "cell_type": "markdown",
   "id": "d8f50d98",
   "metadata": {},
   "source": [
    "# 🔄 Compound Assignment Operators"
   ]
  },
  {
   "cell_type": "code",
   "execution_count": null,
   "id": "7fa23f67",
   "metadata": {},
   "outputs": [
    {
     "name": "stdout",
     "output_type": "stream",
     "text": [
      "Before incrementation\n",
      "10\n",
      "After incrementation\n",
      "110\n"
     ]
    }
   ],
   "source": [
    "print('Before incrementation')\n",
    "a = 10\n",
    "print(a)\n",
    "a += 100    #a = a + 1\n",
    "print('After incrementation')\n",
    "print(a)"
   ]
  },
  {
   "cell_type": "markdown",
   "id": "af10870d",
   "metadata": {},
   "source": [
    "# 🔍 Membership Operators"
   ]
  },
  {
   "cell_type": "code",
   "execution_count": 30,
   "id": "57001499",
   "metadata": {},
   "outputs": [
    {
     "name": "stdout",
     "output_type": "stream",
     "text": [
      "True\n"
     ]
    }
   ],
   "source": [
    "name = 'Python'\n",
    "print('P' in name)"
   ]
  },
  {
   "cell_type": "code",
   "execution_count": 31,
   "id": "430831cd",
   "metadata": {},
   "outputs": [
    {
     "name": "stdout",
     "output_type": "stream",
     "text": [
      "True\n"
     ]
    }
   ],
   "source": [
    "print('z' not in name)"
   ]
  },
  {
   "cell_type": "code",
   "execution_count": 32,
   "id": "4a08a330",
   "metadata": {},
   "outputs": [
    {
     "name": "stdout",
     "output_type": "stream",
     "text": [
      "False\n"
     ]
    }
   ],
   "source": [
    "print('p' in name)"
   ]
  },
  {
   "cell_type": "markdown",
   "id": "bcc24a61",
   "metadata": {},
   "source": [
    "# 🆔 Identity Operators"
   ]
  },
  {
   "cell_type": "code",
   "execution_count": 35,
   "id": "186cfa2e",
   "metadata": {},
   "outputs": [
    {
     "name": "stdout",
     "output_type": "stream",
     "text": [
      "[1, 2, 3, 4, 5] 2110877821184\n",
      "[1, 2, 3, 4, 5] 2110877544384\n",
      "True\n",
      "False\n"
     ]
    }
   ],
   "source": [
    "lst1 = [1,2,3,4,5]\n",
    "lst2 = [1,2,3,4,5]\n",
    "\n",
    "print(lst1, id(lst1))\n",
    "print(lst2,id(lst2))\n",
    "\n",
    "print(lst1 == lst2)\n",
    "print(lst1 is lst2)\n"
   ]
  },
  {
   "cell_type": "code",
   "execution_count": 36,
   "id": "d99ddb00",
   "metadata": {},
   "outputs": [
    {
     "name": "stdout",
     "output_type": "stream",
     "text": [
      "c 140725097559240\n",
      "a 140725097559240\n",
      "b 140725097559560\n",
      "True\n"
     ]
    },
    {
     "name": "stderr",
     "output_type": "stream",
     "text": [
      "<>:10: SyntaxWarning: \"is\" with 'int' literal. Did you mean \"==\"?\n",
      "C:\\Users\\v-maheshkur\\AppData\\Local\\Temp\\ipykernel_38480\\2914840718.py:10: SyntaxWarning: \"is\" with 'int' literal. Did you mean \"==\"?\n",
      "  print(a is 10)\n"
     ]
    }
   ],
   "source": [
    "a = 10\n",
    "b = 20\n",
    "c = 10\n",
    "\n",
    "print('c',id(c))\n",
    "print('a',id(a))\n",
    "print('b',id(b))\n",
    "\n",
    "\n",
    "print(a is 10)"
   ]
  },
  {
   "cell_type": "code",
   "execution_count": null,
   "id": "c42c347b",
   "metadata": {},
   "outputs": [],
   "source": [
    "print(a is not b)"
   ]
  },
  {
   "cell_type": "code",
   "execution_count": null,
   "id": "e1111098",
   "metadata": {},
   "outputs": [],
   "source": [
    "print(b is 20)"
   ]
  },
  {
   "cell_type": "markdown",
   "id": "d1dc83f3",
   "metadata": {},
   "source": [
    "# 🔄 Swap Two Variables"
   ]
  },
  {
   "cell_type": "code",
   "execution_count": null,
   "id": "6566087c",
   "metadata": {},
   "outputs": [],
   "source": [
    "print('Before swapping')\n",
    "a = 10\n",
    "b = 20\n",
    "print('a =', a)\n",
    "print('b =', b)\n",
    "a, b = b, a\n",
    "print('After swapping')\n",
    "print('a =', a)\n",
    "print('b =', b)"
   ]
  }
 ],
 "metadata": {
  "kernelspec": {
   "display_name": "Python 3",
   "language": "python",
   "name": "python3"
  },
  "language_info": {
   "codemirror_mode": {
    "name": "ipython",
    "version": 3
   },
   "file_extension": ".py",
   "mimetype": "text/x-python",
   "name": "python",
   "nbconvert_exporter": "python",
   "pygments_lexer": "ipython3",
   "version": "3.13.9"
  }
 },
 "nbformat": 4,
 "nbformat_minor": 5
}
