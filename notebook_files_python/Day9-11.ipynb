{
 "cells": [
  {
   "cell_type": "markdown",
   "metadata": {},
   "source": [
    "# Advanced Data Types in Python - Complete Notes\n",
    "\n",
    "This notebook covers:\n",
    "1. Tuples\n",
    "2. Sets\n",
    "3. Dictionaries\n",
    "4. Strings (Advanced Operations)\n",
    "\n",
    "---"
   ]
  },
  {
   "cell_type": "markdown",
   "metadata": {},
   "source": [
    "## 1. TUPLES\n",
    "\n",
    "### What is a Tuple?\n",
    "- **Immutable** ordered collection of items\n",
    "- Uses parentheses `()`\n",
    "- Once created, elements cannot be modified\n",
    "- Supports indexing and slicing\n",
    "- Faster than lists for read operations\n",
    "\n",
    "### Creating Tuples"
   ]
  },
  {
   "cell_type": "code",
   "execution_count": null,
   "metadata": {},
   "outputs": [],
   "source": [
    "# Empty tuple\n",
    "tup1 = ()\n",
    "print(tup1)\n",
    "print(type(tup1))  # Output: <class 'tuple'>"
   ]
  },
  {
   "cell_type": "code",
   "execution_count": null,
   "metadata": {},
   "outputs": [],
   "source": [
    "# Tuple with multiple elements\n",
    "tup1 = (1, 2, 3, 4, 5, 6, 7, 8)\n",
    "print(tup1)\n",
    "print(type(tup1))"
   ]
  },
  {
   "cell_type": "code",
   "execution_count": null,
   "metadata": {},
   "outputs": [],
   "source": [
    "# IMPORTANT: Singleton tuple (single element)\n",
    "# Must have a trailing comma!\n",
    "tup1 = 1,  # or (1,)\n",
    "print(tup1)\n",
    "print(type(tup1))  # Without comma, it's just an integer"
   ]
  },
  {
   "cell_type": "code",
   "execution_count": null,
   "metadata": {},
   "outputs": [],
   "source": [
    "# Creating tuple from string\n",
    "aTuple = tuple(\"Orange\")\n",
    "print(aTuple)  # Output: ('O', 'r', 'a', 'n', 'g', 'e')"
   ]
  },
  {
   "cell_type": "markdown",
   "metadata": {},
   "source": [
    "### Accessing Tuple Elements"
   ]
  },
  {
   "cell_type": "code",
   "execution_count": null,
   "metadata": {},
   "outputs": [],
   "source": [
    "# Indexing (supports positive and negative indices)\n",
    "tup2 = (1, 2, 3, 4, 's')\n",
    "print(tup2)\n",
    "print(tup2[-1])  # Last element: 's'"
   ]
  },
  {
   "cell_type": "code",
   "execution_count": null,
   "metadata": {},
   "outputs": [],
   "source": [
    "# Nested list indexing\n",
    "n_lst = [[1, 2, 3], [4, 5, 6], [7, 8, 9]]\n",
    "print(n_lst[1][1])  # Output: 5"
   ]
  },
  {
   "cell_type": "markdown",
   "metadata": {},
   "source": [
    "### Tuple Unpacking"
   ]
  },
  {
   "cell_type": "code",
   "execution_count": null,
   "metadata": {},
   "outputs": [],
   "source": [
    "# Unpacking tuple values into variables\n",
    "aTuple = (\"Yellow\", 20, \"Red\")\n",
    "a, b, c = aTuple\n",
    "print(a)  # Output: Yellow\n",
    "print(b)  # Output: 20\n",
    "print(c)  # Output: Red"
   ]
  },
  {
   "cell_type": "markdown",
   "metadata": {},
   "source": [
    "### Tuple Operations"
   ]
  },
  {
   "cell_type": "code",
   "execution_count": null,
   "metadata": {},
   "outputs": [],
   "source": [
    "# Concatenation and Repetition\n",
    "tup1 = (1, 2, 3, 4, 5)\n",
    "tup2 = (6, 7, 8, 9)\n",
    "tup3 = tup1 * 10  # Repeats tuple 10 times\n",
    "print(tup3)\n",
    "print(type(tup3))"
   ]
  },
  {
   "cell_type": "code",
   "execution_count": null,
   "metadata": {},
   "outputs": [],
   "source": [
    "# count() method - counts occurrences of an element\n",
    "print(tup3.count(1))  # Output: 10"
   ]
  },
  {
   "cell_type": "code",
   "execution_count": null,
   "metadata": {},
   "outputs": [
    {
     "name": "stdout",
     "output_type": "stream",
     "text": [
      "0\n"
     ]
    }
   ],
   "source": [
    "word = \"aeroplane\"\n",
    "alpha = 'z'\n",
    "result = 0\n",
    "\n",
    "for char in word:\n",
    "    if alpha  == char:\n",
    "        result += 1\n",
    "\n",
    "print(result)"
   ]
  },
  {
   "cell_type": "markdown",
   "metadata": {},
   "source": [
    "### Iterating Through Tuples"
   ]
  },
  {
   "cell_type": "code",
   "execution_count": 1,
   "metadata": {},
   "outputs": [
    {
     "name": "stdout",
     "output_type": "stream",
     "text": [
      "0 a\n",
      "1 b\n",
      "2 c\n",
      "3 d\n"
     ]
    }
   ],
   "source": [
    "# Method 1: Using range and len\n",
    "tup1 = ('a', 'b', 'c', 'd')\n",
    "\n",
    "for i in range(len(tup1)):\n",
    "    print(i, tup1[i])"
   ]
  },
  {
   "cell_type": "code",
   "execution_count": null,
   "metadata": {},
   "outputs": [
    {
     "name": "stdout",
     "output_type": "stream",
     "text": [
      "index = 0 value = a\n",
      "index = 1 value = b\n",
      "index = 2 value = c\n",
      "index = 3 value = d\n"
     ]
    }
   ],
   "source": [
    "# Method 2: Using enumerate() - Returns index and value\n",
    "tup1 = ('a', 'b', 'c', 'd')\n",
    "\n",
    "for i, j in enumerate(tup1):\n",
    "    print(\"index =\", i, \"value =\", j)\n",
    "\n",
    "# Simple iteration (values only)\n",
    "for i in tup1:\n",
    "    print(i)"
   ]
  },
  {
   "cell_type": "markdown",
   "metadata": {},
   "source": [
    "### LIST vs TUPLE - Key Differences\n",
    "\n",
    "| Feature | List | Tuple |\n",
    "|---------|------|-------|\n",
    "| Mutability | Mutable | Immutable |\n",
    "| Syntax | `[]` | `()` |\n",
    "| Operations | Add, modify, remove | Only read |\n",
    "| Memory | Dynamic array | Static array |\n",
    "| Functions | More functions | Less functions |\n",
    "| Performance | Slower | Faster |\n",
    "| Use Case | When data changes | When data is constant |\n",
    "\n",
    "---"
   ]
  },
  {
   "cell_type": "markdown",
   "metadata": {},
   "source": [
    "## 2. SETS\n",
    "\n",
    "### What is a Set?\n",
    "- **Unordered** collection of unique elements\n",
    "- Uses curly braces `{}`\n",
    "- **Mutable** (can add/remove elements)\n",
    "- **No duplicates allowed**\n",
    "- **No indexing** (unordered)\n",
    "- Useful for mathematical operations\n",
    "\n",
    "### Creating Sets"
   ]
  },
  {
   "cell_type": "code",
   "execution_count": null,
   "metadata": {},
   "outputs": [],
   "source": [
    "# Empty curly braces create a dictionary, not a set!\n",
    "st = {}\n",
    "print(st)\n",
    "print(type(st))  # Output: <class 'dict'>"
   ]
  },
  {
   "cell_type": "code",
   "execution_count": null,
   "metadata": {},
   "outputs": [],
   "source": [
    "# Correct way to create empty set\n",
    "st = set()\n",
    "print(st)\n",
    "print(type(st))  # Output: <class 'set'>"
   ]
  },
  {
   "cell_type": "code",
   "execution_count": null,
   "metadata": {},
   "outputs": [],
   "source": [
    "# Set automatically removes duplicates\n",
    "# Note: True = 1, False = 0 in Python\n",
    "st = {1, 1, 1, 1, 1, 1, 1, 1, 1, 1, 2, True, 0, 3, 4, 5, 6, 'a', False, 'c'}\n",
    "print(st)  # Duplicates removed, True/1 and False/0 treated as same\n",
    "print(type(st))"
   ]
  },
  {
   "cell_type": "markdown",
   "metadata": {},
   "source": [
    "### Set Operations"
   ]
  },
  {
   "cell_type": "code",
   "execution_count": null,
   "metadata": {},
   "outputs": [],
   "source": [
    "# Sets don't support indexing!\n",
    "set1 = {1, 2, 3, 4, 5}\n",
    "# print(set1[3])  # This will raise TypeError"
   ]
  },
  {
   "cell_type": "code",
   "execution_count": null,
   "metadata": {},
   "outputs": [],
   "source": [
    "# Iterating through sets\n",
    "for i in set1:\n",
    "    if i == 4:\n",
    "        i = 14  # This won't modify the set (immutable elements)\n",
    "\n",
    "print(set1)  # Set remains unchanged"
   ]
  },
  {
   "cell_type": "code",
   "execution_count": null,
   "metadata": {},
   "outputs": [],
   "source": [
    "# pop() - removes and returns an arbitrary element\n",
    "set1.pop()\n",
    "print(set1)"
   ]
  },
  {
   "cell_type": "code",
   "execution_count": null,
   "metadata": {},
   "outputs": [],
   "source": [
    "# remove() - removes specific element\n",
    "set1.remove(4)\n",
    "print(set1)"
   ]
  },
  {
   "cell_type": "markdown",
   "metadata": {},
   "source": [
    "### Mathematical Set Operations"
   ]
  },
  {
   "cell_type": "code",
   "execution_count": null,
   "metadata": {},
   "outputs": [],
   "source": [
    "# Define sets for operations\n",
    "A = {1, 2, 3}\n",
    "B = {3, 4, 5}\n",
    "C = {1, 2}\n",
    "D = {6, 7, 8}\n",
    "\n",
    "# UNION - All elements from both sets\n",
    "print(A.union(B))\n",
    "print(\"Union:\", A | B)  # Operator method\n",
    "\n",
    "# INTERSECTION - Common elements only\n",
    "print(A.intersection(B))\n",
    "print(\"Intersection:\", A & B)\n",
    "\n",
    "# DIFFERENCE - Elements in A but not in B\n",
    "print(A.difference(B))\n",
    "print(\"Difference (A - B):\", A - B)\n",
    "\n",
    "# SYMMETRIC DIFFERENCE - Elements in A or B but not both\n",
    "print(\"Symmetric Difference:\", A ^ B)\n",
    "\n",
    "# SUBSET - Check if C is subset of A\n",
    "print(\"Is C a subset of A?\", C <= A)\n",
    "\n",
    "# SUPERSET - Check if A is superset of C\n",
    "print(\"Is A a superset of C?\", A >= C)\n",
    "\n",
    "# DISJOINT - No common elements\n",
    "print(\"Are A and D disjoint?\", A.isdisjoint(D))\n",
    "print(C.isdisjoint(A))  # False (they have common elements)"
   ]
  },
  {
   "cell_type": "markdown",
   "metadata": {},
   "source": [
    "### Practical Set Examples"
   ]
  },
  {
   "cell_type": "code",
   "execution_count": null,
   "metadata": {},
   "outputs": [],
   "source": [
    "# Example 1: Finding unique vowels in a word\n",
    "word = 'aeroplane'\n",
    "vowels = ['a', 'e', 'i', 'o', 'u']\n",
    "result = []\n",
    "\n",
    "for char in word:\n",
    "    if char in vowels and char not in result:\n",
    "        result.append(char)\n",
    "\n",
    "print(result)  # Output: ['a', 'e', 'o']"
   ]
  },
  {
   "cell_type": "code",
   "execution_count": null,
   "metadata": {},
   "outputs": [],
   "source": [
    "# More efficient using sets\n",
    "word = 'AEROPLANE'\n",
    "word_set = set(word)\n",
    "vowels = {'A', 'E', 'I', 'O', 'U'}\n",
    "\n",
    "print(word_set.intersection(vowels))  # Output: {'A', 'E', 'O'}"
   ]
  },
  {
   "cell_type": "code",
   "execution_count": null,
   "metadata": {},
   "outputs": [],
   "source": [
    "# Example 2: Remove duplicates from list using set\n",
    "lst = [1, 12, 23, 4, 54, 2, 4, 5, 6, 8, 5, 6, 8, 5]\n",
    "print(lst)\n",
    "\n",
    "conv_lst = set(lst)\n",
    "print(conv_lst)  # Duplicates removed"
   ]
  },
  {
   "cell_type": "code",
   "execution_count": null,
   "metadata": {},
   "outputs": [],
   "source": [
    "# Remove duplicates without built-in functions\n",
    "lst = [1, 12, 23, 4, 54, 2, 4, 5, 6, 8, 5, 6, 8, 5]\n",
    "unique_list = []\n",
    "\n",
    "for num in lst:\n",
    "    if num not in unique_list:\n",
    "        unique_list.append(num)\n",
    "\n",
    "print(unique_list)"
   ]
  },
  {
   "cell_type": "markdown",
   "metadata": {},
   "source": [
    "---\n",
    "\n",
    "## 3. DICTIONARIES\n",
    "\n",
    "### What is a Dictionary?\n",
    "- **Key-value pairs** collection\n",
    "- Uses curly braces `{}` with key:value syntax\n",
    "- **Mutable** (can modify values)\n",
    "- Keys must be **unique** and **immutable** (strings, numbers, tuples)\n",
    "- Values can be any data type\n",
    "- Unordered (before Python 3.7), ordered (Python 3.7+)\n",
    "\n",
    "### Creating Dictionaries"
   ]
  },
  {
   "cell_type": "code",
   "execution_count": null,
   "metadata": {},
   "outputs": [],
   "source": [
    "# Empty dictionary\n",
    "dict1 = {}\n",
    "print(dict1)"
   ]
  },
  {
   "cell_type": "code",
   "execution_count": null,
   "metadata": {},
   "outputs": [],
   "source": [
    "# Dictionary with duplicate keys - last value wins\n",
    "groc_dict = {'Rice': 10, 'wheat': 10, 'Milk': 10, 'Rice': 80}\n",
    "print(groc_dict)  # Output: {'Rice': 80, 'wheat': 10, 'Milk': 10}"
   ]
  },
  {
   "cell_type": "markdown",
   "metadata": {},
   "source": [
    "### Accessing Dictionary Values"
   ]
  },
  {
   "cell_type": "code",
   "execution_count": null,
   "metadata": {},
   "outputs": [],
   "source": [
    "# Method 1: Using square brackets (raises KeyError if key doesn't exist)\n",
    "# groc_dict['milk']  # KeyError!\n",
    "print(groc_dict['Milk'])  # Works (case-sensitive)"
   ]
  },
  {
   "cell_type": "code",
   "execution_count": null,
   "metadata": {},
   "outputs": [],
   "source": [
    "# Method 2: Using get() - returns None if key doesn't exist\n",
    "print(groc_dict.get('Milk'))  # Returns value\n",
    "print(groc_dict.get('choco'))  # Returns None (no error)"
   ]
  },
  {
   "cell_type": "code",
   "execution_count": null,
   "metadata": {},
   "outputs": [],
   "source": [
    "# get() with default value\n",
    "print(groc_dict.get('Milk', 'key not present'))\n",
    "print(groc_dict.get('choco', 'key not present'))"
   ]
  },
  {
   "cell_type": "markdown",
   "metadata": {},
   "source": [
    "### Modifying Dictionaries"
   ]
  },
  {
   "cell_type": "code",
   "execution_count": null,
   "metadata": {},
   "outputs": [],
   "source": [
    "# Updating existing key\n",
    "groc_dict['Rice'] = 800\n",
    "print(groc_dict)"
   ]
  },
  {
   "cell_type": "code",
   "execution_count": null,
   "metadata": {},
   "outputs": [],
   "source": [
    "# Adding new key-value pair\n",
    "fruits = {'apple': 102, 'orange': 300, 'banana': 450}\n",
    "fruits['grapes'] = 400\n",
    "print(fruits)"
   ]
  },
  {
   "cell_type": "markdown",
   "metadata": {},
   "source": [
    "### Practical Dictionary Example"
   ]
  },
  {
   "cell_type": "code",
   "execution_count": null,
   "metadata": {},
   "outputs": [],
   "source": [
    "# User input validation example\n",
    "fruits = {'apple': 102, 'orange': 300, 'banana': 450}\n",
    "\n",
    "fruit_name = input(\"Enter the fruit name: \")\n",
    "\n",
    "# Method 1: Using get()\n",
    "result = fruits.get(fruit_name, \"Please enter the correct fruit name\")\n",
    "print(result)"
   ]
  },
  {
   "cell_type": "code",
   "execution_count": null,
   "metadata": {},
   "outputs": [],
   "source": [
    "# Method 2: Using if-else\n",
    "fruit_name = input(\"Enter the fruit name: \")\n",
    "if fruit_name in fruits:\n",
    "    print(fruits[fruit_name])\n",
    "else:\n",
    "    print(\"Please enter the correct fruit name\")"
   ]
  },
  {
   "cell_type": "code",
   "execution_count": null,
   "metadata": {},
   "outputs": [],
   "source": [
    "# Creating student records dynamically\n",
    "stu_num = int(input(\"Enter the number of students: \"))\n",
    "student_records = {}\n",
    "\n",
    "for i in range(stu_num):\n",
    "    name = input(\"Enter the name of student: \")\n",
    "    marks = float(input(\"Enter the marks: \"))\n",
    "    student_records[name] = marks\n",
    "\n",
    "print(student_records)"
   ]
  },
  {
   "cell_type": "markdown",
   "metadata": {},
   "source": [
    "### Dictionary Methods"
   ]
  },
  {
   "cell_type": "code",
   "execution_count": null,
   "metadata": {},
   "outputs": [],
   "source": [
    "fruits = {'apple': 102, 'orange': 300, 'banana': 450}\n",
    "\n",
    "# keys() - returns all keys\n",
    "print(fruits.keys())  # dict_keys(['apple', 'orange', 'banana'])"
   ]
  },
  {
   "cell_type": "code",
   "execution_count": null,
   "metadata": {},
   "outputs": [],
   "source": [
    "# values() - returns all values\n",
    "print(fruits.values())  # dict_values([102, 300, 450])"
   ]
  },
  {
   "cell_type": "code",
   "execution_count": null,
   "metadata": {},
   "outputs": [],
   "source": [
    "# items() - returns key-value pairs as tuples\n",
    "print(fruits.items())  # dict_items([('apple', 102), ('orange', 300), ('banana', 450)])"
   ]
  },
  {
   "cell_type": "code",
   "execution_count": null,
   "metadata": {},
   "outputs": [],
   "source": [
    "# pop() - removes and returns value for specific key\n",
    "removed_value = fruits.pop('apple')\n",
    "print(removed_value)  # 102\n",
    "print(fruits)"
   ]
  },
  {
   "cell_type": "code",
   "execution_count": null,
   "metadata": {},
   "outputs": [],
   "source": [
    "# popitem() - removes and returns last key-value pair\n",
    "last_item = fruits.popitem()\n",
    "print(last_item)  # ('banana', 450)\n",
    "print(fruits)"
   ]
  },
  {
   "cell_type": "code",
   "execution_count": null,
   "metadata": {},
   "outputs": [],
   "source": [
    "# clear() - removes all items\n",
    "fruits.clear()\n",
    "print(fruits)  # {}"
   ]
  },
  {
   "cell_type": "code",
   "execution_count": null,
   "metadata": {},
   "outputs": [],
   "source": [
    "# fromkeys() - creates dictionary with specified keys and default value\n",
    "fruits = fruits.fromkeys([1, 2, 3, 4])\n",
    "print(fruits)  # {1: None, 2: None, 3: None, 4: None}"
   ]
  },
  {
   "cell_type": "code",
   "execution_count": null,
   "metadata": {},
   "outputs": [],
   "source": [
    "# update() - adds or updates multiple key-value pairs\n",
    "fruits.update({5: None, 6: None})\n",
    "print(fruits)"
   ]
  },
  {
   "cell_type": "code",
   "execution_count": null,
   "metadata": {},
   "outputs": [],
   "source": [
    "# Merging dictionaries using unpacking operator\n",
    "dict1 = {'a': 1, 'b': 2}\n",
    "dict2 = {'c': 3, 'd': 4}\n",
    "merged = {**dict1, **dict2}\n",
    "print(merged)  # {'a': 1, 'b': 2, 'c': 3, 'd': 4}"
   ]
  },
  {
   "cell_type": "markdown",
   "metadata": {},
   "source": [
    "---\n",
    "\n",
    "## 4. STRINGS (Advanced Operations)\n",
    "\n",
    "### String Creation Methods"
   ]
  },
  {
   "cell_type": "code",
   "execution_count": null,
   "metadata": {},
   "outputs": [],
   "source": [
    "# Four ways to create strings\n",
    "name1 = 'python'  # Single quotes\n",
    "name2 = \"python\"  # Double quotes\n",
    "name3 = '''python'''  # Triple single quotes (multiline)\n",
    "name4 = \"\"\"python\"\"\"  # Triple double quotes (multiline)\n",
    "\n",
    "print(name1)\n",
    "print(name2)\n",
    "print(name3)\n",
    "print(name4)"
   ]
  },
  {
   "cell_type": "code",
   "execution_count": null,
   "metadata": {},
   "outputs": [],
   "source": [
    "# Single line string\n",
    "sentence = \"i am studying python programming language in besant technologies\"\n",
    "print(sentence)"
   ]
  },
  {
   "cell_type": "code",
   "execution_count": null,
   "metadata": {},
   "outputs": [],
   "source": [
    "# Multiline string\n",
    "multilinesentence = \"\"\"i am studying python programming \n",
    "language in besant technologies\"\"\"\n",
    "print(multilinesentence)"
   ]
  },
  {
   "cell_type": "markdown",
   "metadata": {},
   "source": [
    "### String Methods"
   ]
  },
  {
   "cell_type": "code",
   "execution_count": null,
   "metadata": {},
   "outputs": [],
   "source": [
    "sentence = \"i am studying python programming language in besant technologies\"\n",
    "\n",
    "# count() - counts occurrences of substring\n",
    "print(sentence.count('i'))  # Output: 5"
   ]
  },
  {
   "cell_type": "code",
   "execution_count": null,
   "metadata": {},
   "outputs": [],
   "source": [
    "# replace() - replaces substring\n",
    "print(sentence.replace(\"besant\", \"BDreamz\"))"
   ]
  },
  {
   "cell_type": "code",
   "execution_count": null,
   "metadata": {},
   "outputs": [],
   "source": [
    "# Case conversion methods\n",
    "print(sentence.capitalize())  # First letter uppercase\n",
    "print(sentence.upper())  # All uppercase\n",
    "print(sentence.lower())  # All lowercase"
   ]
  },
  {
   "cell_type": "code",
   "execution_count": null,
   "metadata": {},
   "outputs": [],
   "source": [
    "# find() - returns index of substring (-1 if not found)\n",
    "print(sentence.find('Python'))  # -1 (case-sensitive)\n",
    "print(sentence.find('python'))  # Returns index"
   ]
  },
  {
   "cell_type": "code",
   "execution_count": null,
   "metadata": {},
   "outputs": [],
   "source": [
    "# split() - splits string into list\n",
    "words = sentence.split()  # Default: split by whitespace\n",
    "print(words)"
   ]
  },
  {
   "cell_type": "code",
   "execution_count": null,
   "metadata": {},
   "outputs": [],
   "source": [
    "# split() with custom separator and join()\n",
    "dob = \"20-10-1995\"\n",
    "print(dob)\n",
    "res = dob.split(sep='-')  # Split by '-'\n",
    "new_dob = \"/\".join(res)  # Join with '/'\n",
    "print(new_dob)  # Output: 20/10/1995"
   ]
  },
  {
   "cell_type": "markdown",
   "metadata": {},
   "source": [
    "### String Formatting"
   ]
  },
  {
   "cell_type": "code",
   "execution_count": null,
   "metadata": {},
   "outputs": [],
   "source": [
    "name = \"Mahesh\"\n",
    "course = \"Python\"\n",
    "college = \"Fast Learning\"\n",
    "\n",
    "# Method 1: Comma-separated\n",
    "print(\"name\", name, \"course\", course, \"college\", college)\n",
    "\n",
    "# Method 2: format() method\n",
    "print(\"name {} course {} college {}\".format(name, course, college))\n",
    "\n",
    "# Method 3: f-strings (Python 3.6+) - RECOMMENDED"
   ]
  },
  {
   "cell_type": "markdown",
   "metadata": {},
   "source": [
    "### ASCII Operations"
   ]
  },
  {
   "cell_type": "code",
   "execution_count": null,
   "metadata": {},
   "outputs": [],
   "source": [
    "# ord() - returns ASCII value of character\n",
    "print(ord(\"Z\"))  # Output: 90\n",
    "\n",
    "# chr() - returns character from ASCII value\n",
    "print(chr(65))  # Output: A"
   ]
  },
  {
   "cell_type": "code",
   "execution_count": null,
   "metadata": {},
   "outputs": [],
   "source": [
    "# Print all uppercase letters with ASCII values\n",
    "for i in range(65, 91):\n",
    "    print(f'ascii value: {i}  char: {chr(i)}')"
   ]
  },
  {
   "cell_type": "markdown",
   "metadata": {},
   "source": [
    "### String Special Characters"
   ]
  },
  {
   "cell_type": "code",
   "execution_count": null,
   "metadata": {},
   "outputs": [],
   "source": [
    "# Escape character \\ for quotes inside strings\n",
    "sentence = 'I can\\'t come tomorrow'\n",
    "print(sentence)"
   ]
  },
  {
   "cell_type": "markdown",
   "metadata": {},
   "source": [
    "### Advanced String Operations"
   ]
  },
  {
   "cell_type": "code",
   "execution_count": null,
   "metadata": {},
   "outputs": [],
   "source": [
    "name = \"Python\"\n",
    "\n",
    "# Reverse string using slicing\n",
    "print(name[::-1])  # Output: nohtyP"
   ]
  },
  {
   "cell_type": "code",
   "execution_count": null,
   "metadata": {},
   "outputs": [],
   "source": [
    "# swapcase() - swaps upper and lower case\n",
    "print(name.swapcase())  # Output: pYTHON"
   ]
  },
  {
   "cell_type": "code",
   "execution_count": null,
   "metadata": {},
   "outputs": [],
   "source": [
    "# len() - returns length of string\n",
    "print(len(name))  # Output: 6"
   ]
  },
  {
   "cell_type": "markdown",
   "metadata": {},
   "source": [
    "### String Validation Methods"
   ]
  },
  {
   "cell_type": "code",
   "execution_count": null,
   "metadata": {},
   "outputs": [],
   "source": [
    "# Count alphabetic and numeric characters\n",
    "word = \"mb34mb476b\"\n",
    "alpha = 0\n",
    "num = 0\n",
    "\n",
    "for char in word:\n",
    "    if char.isalpha():  # Check if alphabetic\n",
    "        alpha += 1\n",
    "    if char.isdigit():  # Check if digit\n",
    "        num += 1\n",
    "\n",
    "print(alpha, num)  # Output: 5 5"
   ]
  },
  {
   "cell_type": "markdown",
   "metadata": {},
   "source": [
    "### String Trimming Methods"
   ]
  },
  {
   "cell_type": "code",
   "execution_count": null,
   "metadata": {},
   "outputs": [],
   "source": [
    "# strip() - removes leading and trailing whitespace\n",
    "name1 = \" Python            \".strip()\n",
    "name2 = \"       Python\".strip()\n",
    "\n",
    "if name1 == name2:\n",
    "    print(\"same\")\n",
    "else:\n",
    "    print(\"not same\")"
   ]
  },
  {
   "cell_type": "markdown",
   "metadata": {},
   "source": [
    "### String Search Methods"
   ]
  },
  {
   "cell_type": "code",
   "execution_count": null,
   "metadata": {},
   "outputs": [],
   "source": [
    "data = 'ABCBAB'\n",
    "\n",
    "# find() - returns index or -1 if not found\n",
    "print(data.find('B'))  # First occurrence: 1\n",
    "print(data.rfind('b'))  # Case-sensitive: -1\n",
    "print(data.rfind('B'))  # Last occurrence: 5\n",
    "print(data.find('B', 0, 2))  # Search in range: 1\n",
    "\n",
    "# index() - returns index or raises ValueError\n",
    "print(data.index('B'))  # First occurrence: 1\n",
    "print(data.index('B', 0, 2))  # Search in range: 1\n",
    "print(data.rindex('B', 0, 6))  # Last occurrence: 5\n",
    "\n",
    "# count() - count overlapping occurrences\n",
    "s = 'ABBABBABA'\n",
    "print(s.count('AB'))  # Output: 3"
   ]
  },
  {
   "cell_type": "markdown",
   "metadata": {},
   "source": [
    "---\n",
    "\n",
    "## 5. ADDITIONAL CONCEPTS\n",
    "\n",
    "### Frozenset"
   ]
  },
  {
   "cell_type": "code",
   "execution_count": null,
   "metadata": {},
   "outputs": [],
   "source": [
    "# frozenset - Immutable version of set\n",
    "set1 = {1, 2, 3, 4, 5, 56}\n",
    "print(set1)\n",
    "\n",
    "frz_set = frozenset(set1)\n",
    "print(frz_set)\n",
    "\n",
    "# Cannot modify frozenset\n",
    "# frz_set.add(7)  # AttributeError!"
   ]
  },
  {
   "cell_type": "markdown",
   "metadata": {},
   "source": [
    "### Random Numbers"
   ]
  },
  {
   "cell_type": "code",
   "execution_count": null,
   "metadata": {},
   "outputs": [],
   "source": [
    "# Generate list of random numbers using list comprehension\n",
    "import random\n",
    "\n",
    "random_numbers = [random.randint(1, 100) for _ in range(10)]\n",
    "print(random_numbers)"
   ]
  },
  {
   "cell_type": "markdown",
   "metadata": {},
   "source": [
    "---\n",
    "\n",
    "## PRACTICE PROBLEMS\n",
    "\n",
    "### Problem 1: Remove Duplicates Without Built-in Functions\n",
    "**Task:** Write a program to eliminate duplicates from a list without using `set()`\n",
    "\n",
    "**Solution:**"
   ]
  },
  {
   "cell_type": "code",
   "execution_count": null,
   "metadata": {},
   "outputs": [],
   "source": [
    "lst = [1, 12, 23, 4, 54, 2, 4, 5, 6, 8, 5, 6, 8, 5]\n",
    "unique_list = []\n",
    "\n",
    "for num in lst:\n",
    "    if num not in unique_list:\n",
    "        unique_list.append(num)\n",
    "\n",
    "print(unique_list)"
   ]
  },
  {
   "cell_type": "markdown",
   "metadata": {},
   "source": [
    "### Problem 2: Find Unique Vowels\n",
    "**Task:** Extract unique vowels from a word"
   ]
  },
  {
   "cell_type": "code",
   "execution_count": null,
   "metadata": {},
   "outputs": [],
   "source": [
    "word = 'AEROPLANE'\n",
    "word_set = set(word)\n",
    "vowels = {'A', 'E', 'I', 'O', 'U'}\n",
    "\n",
    "result = word_set.intersection(vowels)\n",
    "print(result)  # Output: {'A', 'E', 'O'}"
   ]
  },
  {
   "cell_type": "markdown",
   "metadata": {},
   "source": [
    "### Problem 3: Date Format Conversion\n",
    "**Task:** Convert date from DD-MM-YYYY to DD/MM/YYYY"
   ]
  },
  {
   "cell_type": "code",
   "execution_count": null,
   "metadata": {},
   "outputs": [],
   "source": [
    "dob = \"20-10-1995\"\n",
    "res = dob.split(sep='-')\n",
    "new_format = \"/\".join(res)\n",
    "print(new_format)  # Output: 20/10/1995"
   ]
  },
  {
   "cell_type": "markdown",
   "metadata": {},
   "source": [
    "### Problem 4: Count Alphabetic and Numeric Characters\n",
    "**Task:** Count alpha and numeric characters in a mixed string"
   ]
  },
  {
   "cell_type": "code",
   "execution_count": null,
   "metadata": {},
   "outputs": [],
   "source": [
    "word = \"mb34mb476b\"\n",
    "alpha = 0\n",
    "num = 0\n",
    "\n",
    "for char in word:\n",
    "    if char.isalpha():\n",
    "        alpha += 1\n",
    "    if char.isdigit():\n",
    "        num += 1\n",
    "\n",
    "print(f\"Alphabets: {alpha}, Numbers: {num}\")"
   ]
  },
  {
   "cell_type": "markdown",
   "metadata": {},
   "source": [
    "---\n",
    "\n",
    "## SUMMARY & KEY TAKEAWAYS\n",
    "\n",
    "### Tuples\n",
    "- ✅ Immutable, ordered, allows duplicates\n",
    "- ✅ Faster than lists\n",
    "- ✅ Use for constant data\n",
    "- ⚠️ Singleton tuple needs trailing comma: `(1,)`\n",
    "\n",
    "### Sets\n",
    "- ✅ Unordered, no duplicates, mutable\n",
    "- ✅ Mathematical operations (union, intersection, etc.)\n",
    "- ✅ Fast membership testing\n",
    "- ❌ No indexing\n",
    "- ⚠️ Empty set: `set()` not `{}`\n",
    "\n",
    "### Dictionaries\n",
    "- ✅ Key-value pairs, mutable\n",
    "- ✅ Fast lookups by key\n",
    "- ✅ Keys must be unique and immutable\n",
    "- ⚠️ Use `.get()` to avoid KeyError\n",
    "\n",
    "### Strings\n",
    "- ✅ Immutable, ordered, iterable\n",
    "- ✅ Rich set of methods\n",
    "- ✅ Multiple formatting options (f-strings recommended)\n",
    "- ⚠️ Case-sensitive operations\n",
    "\n",
    "### Best Practices\n",
    "1. Use **tuples** for fixed data that shouldn't change\n",
    "2. Use **sets** for uniqueness and mathematical operations\n",
    "3. Use **dictionaries** for key-based lookups\n",
    "4. Use **`.get()`** with dictionaries to avoid errors\n",
    "5. Use **f-strings** for modern string formatting\n",
    "6. Always validate user input before dictionary access\n",
    "\n",
    "---\n",
    "\n",
    "## ADDITIONAL EXERCISES\n",
    "\n",
    "1. **Remove spaces from string without built-in functions**\n",
    "   - Input: `\" Python class         \"`\n",
    "   - Output: `\"Python class\"`\n",
    "\n",
    "2. **Student grade management system**\n",
    "   - Create a dictionary to store student names and grades\n",
    "   - Add, update, and retrieve student records\n",
    "   - Calculate average grade\n",
    "\n",
    "3. **Set operations practice**\n",
    "   - Given two sets of numbers, find:\n",
    "     - Common elements\n",
    "     - Unique to first set\n",
    "     - All unique elements\n",
    "\n",
    "4. **String manipulation**\n",
    "   - Check if a string is palindrome\n",
    "   - Count word frequency in a sentence\n",
    "   - Remove vowels from a string\n",
    "\n",
    "Happy Learning! 🐍"
   ]
  }
 ],
 "metadata": {
  "kernelspec": {
   "display_name": "Python 3",
   "language": "python",
   "name": "python3"
  },
  "language_info": {
   "codemirror_mode": {
    "name": "ipython",
    "version": 3
   },
   "file_extension": ".py",
   "mimetype": "text/x-python",
   "name": "python",
   "nbconvert_exporter": "python",
   "pygments_lexer": "ipython3",
   "version": "3.13.9"
  }
 },
 "nbformat": 4,
 "nbformat_minor": 2
}
